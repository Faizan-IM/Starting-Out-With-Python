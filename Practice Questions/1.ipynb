{
 "cells": [
  {
   "cell_type": "markdown",
   "metadata": {},
   "source": [
    "# Chapter 1: Python Basics"
   ]
  },
  {
   "cell_type": "markdown",
   "metadata": {},
   "source": [
    "Write a Python program to print the following:\n",
    "```\n",
    "Hello, Newbie!\n",
    "```"
   ]
  },
  {
   "cell_type": "code",
   "execution_count": 1,
   "metadata": {},
   "outputs": [
    {
     "name": "stdout",
     "output_type": "stream",
     "text": [
      "Hello, Newbie!\n"
     ]
    }
   ],
   "source": [
    "print (\"Hello, Newbie!\")"
   ]
  },
  {
   "cell_type": "code",
   "execution_count": 2,
   "metadata": {},
   "outputs": [
    {
     "data": {
      "text/plain": [
       "'Hello, Newbie!'"
      ]
     },
     "execution_count": 2,
     "metadata": {},
     "output_type": "execute_result"
    }
   ],
   "source": [
    "text = 'Hello, Newbie!'\n",
    "text"
   ]
  },
  {
   "cell_type": "markdown",
   "metadata": {},
   "source": [
    "Assign values to three variables: an integer, a float, and a string. Then print them all in one line.\n",
    "```\n",
    "# Example: Output should be like\n",
    "# \"Integer: 5, Float: 3.14, String: Hello\"\n",
    "```\n"
   ]
  },
  {
   "cell_type": "code",
   "execution_count": 6,
   "metadata": {},
   "outputs": [
    {
     "name": "stdout",
     "output_type": "stream",
     "text": [
      "integer: 5, float: 3.14, string: Hello\n"
     ]
    }
   ],
   "source": [
    "int = 5\n",
    "float = 3.14\n",
    "string = \"Hello\"\n",
    "print(f\"integer: {int}, float: {float}, string: {string}\")"
   ]
  },
  {
   "cell_type": "markdown",
   "metadata": {},
   "source": [
    "Write a program to swap two variables without using a third variable."
   ]
  },
  {
   "cell_type": "code",
   "execution_count": 12,
   "metadata": {},
   "outputs": [
    {
     "name": "stdout",
     "output_type": "stream",
     "text": [
      "3 2\n"
     ]
    }
   ],
   "source": [
    "x = 2 \n",
    "y = 3\n",
    "x = x+y\n",
    "y = x-y\n",
    "x= x-y\n",
    "print(x,y)"
   ]
  },
  {
   "cell_type": "markdown",
   "metadata": {},
   "source": [
    "Write a Python program to check the data type of the following variables:\n",
    "```\n",
    "x = 42\n",
    "y = \"Python\"\n",
    "z = 3.14\n",
    "```\n"
   ]
  },
  {
   "cell_type": "code",
   "execution_count": 16,
   "metadata": {},
   "outputs": [
    {
     "name": "stdout",
     "output_type": "stream",
     "text": [
      "<class 'int'>\n",
      "<class 'str'>\n",
      "<class 'float'>\n"
     ]
    }
   ],
   "source": [
    "x = 42\n",
    "y = \"Python\"\n",
    "z = 3.14\n",
    "print(type(x))\n",
    "print(type(y))\n",
    "print(type(z))"
   ]
  },
  {
   "cell_type": "markdown",
   "metadata": {},
   "source": [
    "Write a Python program to display:\n",
    "```Name: [Your Name], Age: [Your Age]```"
   ]
  },
  {
   "cell_type": "code",
   "execution_count": 21,
   "metadata": {},
   "outputs": [
    {
     "name": "stdout",
     "output_type": "stream",
     "text": [
      "Name: Faizan, Age: 30\n"
     ]
    }
   ],
   "source": [
    "Name = 'Faizan'\n",
    "Age = 30\n",
    "print(f'Name: {Name}, Age: {Age}')"
   ]
  },
  {
   "cell_type": "markdown",
   "metadata": {},
   "source": [
    "Write a program to calculate and print the result of the following:\n",
    "```(5 + 3) * 2 - 8 / 4```"
   ]
  },
  {
   "cell_type": "code",
   "execution_count": 22,
   "metadata": {},
   "outputs": [
    {
     "name": "stdout",
     "output_type": "stream",
     "text": [
      "14.0\n"
     ]
    }
   ],
   "source": [
    "print ((5 + 3) * 2 - 8 / 4)"
   ]
  },
  {
   "cell_type": "markdown",
   "metadata": {},
   "source": [
    "Write a Python program that takes two integers as input and prints whether the first number is greater than, less than, or equal to the second number."
   ]
  },
  {
   "cell_type": "code",
   "execution_count": null,
   "metadata": {},
   "outputs": [],
   "source": [
    "# x = int(input('Enter x: '))\n",
    "# y = int(input('Enter y: '))\n",
    "# if x>y:\n",
    "#     print(f'x {x} is greater than y {y}')\n",
    "# elif y>x:\n",
    "#     print(f'x {x} is lesser than y {y}')\n",
    "# elif x == y:\n",
    "#     print(f'x {x} and y {y} are equal')"
   ]
  },
  {
   "cell_type": "markdown",
   "metadata": {},
   "source": [
    "x= 'hello'\n",
    "for i in range(len(x)):\n",
    "    for j in len(i+1):\n",
    "        print(x[i], end= \" \")"
   ]
  },
  {
   "cell_type": "code",
   "execution_count": 10,
   "metadata": {},
   "outputs": [
    {
     "name": "stdout",
     "output_type": "stream",
     "text": [
      "h-\n",
      "e-e-\n",
      "l-l-l-\n",
      "l-l-l-l-\n",
      "o-o-o-o-o-\n"
     ]
    }
   ],
   "source": [
    "x = \"hello\"\n",
    "for i in range(len(x)):\n",
    "    for j in range(i+1):\n",
    "        print(x[i], end= \"-\")\n",
    "    print()"
   ]
  },
  {
   "cell_type": "code",
   "execution_count": null,
   "metadata": {},
   "outputs": [],
   "source": []
  },
  {
   "cell_type": "markdown",
   "metadata": {},
   "source": []
  }
 ],
 "metadata": {
  "kernelspec": {
   "display_name": "Python 3",
   "language": "python",
   "name": "python3"
  },
  "language_info": {
   "codemirror_mode": {
    "name": "ipython",
    "version": 3
   },
   "file_extension": ".py",
   "mimetype": "text/x-python",
   "name": "python",
   "nbconvert_exporter": "python",
   "pygments_lexer": "ipython3",
   "version": "3.12.6"
  }
 },
 "nbformat": 4,
 "nbformat_minor": 2
}
