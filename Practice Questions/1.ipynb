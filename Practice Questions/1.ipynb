{
 "cells": [
  {
   "cell_type": "markdown",
   "metadata": {},
   "source": [
    "# Chapter 1: Python Basics"
   ]
  },
  {
   "cell_type": "markdown",
   "metadata": {},
   "source": [
    "Write a Python program to print the following:\n",
    "\n",
    "```Hello, Python!```"
   ]
  },
  {
   "cell_type": "code",
   "execution_count": 1,
   "metadata": {},
   "outputs": [
    {
     "name": "stdout",
     "output_type": "stream",
     "text": [
      "Hello, Python!\n"
     ]
    }
   ],
   "source": [
    "print(\"Hello, Python!\")"
   ]
  },
  {
   "cell_type": "code",
   "execution_count": 2,
   "metadata": {},
   "outputs": [
    {
     "data": {
      "text/plain": [
       "'Hello, Python!'"
      ]
     },
     "execution_count": 2,
     "metadata": {},
     "output_type": "execute_result"
    }
   ],
   "source": [
    "text = \"Hello, Python!\"\n",
    "text"
   ]
  },
  {
   "cell_type": "markdown",
   "metadata": {},
   "source": [
    "Assign values to three variables: an integer, a float, and a string. Then print them all in one line.\n",
    "```\n",
    "# Example: Output should be like\n",
    "# \"Integer: 5, Float: 3.14, String: Hello\"\n",
    "```"
   ]
  },
  {
   "cell_type": "code",
   "execution_count": 3,
   "metadata": {},
   "outputs": [
    {
     "name": "stdout",
     "output_type": "stream",
     "text": [
      "Integer: 5, Float: 3.14, String: Hello\n"
     ]
    }
   ],
   "source": [
    "x = 5\n",
    "y = 3.14\n",
    "z = 'Hello'\n",
    "print (f'Integer: {x}, Float: {y}, String: {z}')"
   ]
  },
  {
   "cell_type": "markdown",
   "metadata": {},
   "source": [
    "Write a program to swap two variables without using a third variable."
   ]
  },
  {
   "cell_type": "code",
   "execution_count": 4,
   "metadata": {},
   "outputs": [
    {
     "name": "stdout",
     "output_type": "stream",
     "text": [
      "2 5\n"
     ]
    }
   ],
   "source": [
    "x = 5\n",
    "y = 2\n",
    "x = x+y\n",
    "y = x-y\n",
    "x = x-y\n",
    "print(x,y)"
   ]
  },
  {
   "cell_type": "markdown",
   "metadata": {},
   "source": [
    "Write a Python program to check the data type of the following variables:\n",
    "```\n",
    "x = 42\n",
    "y = \"Python\"\n",
    "z = 3.14\n",
    "```"
   ]
  },
  {
   "cell_type": "code",
   "execution_count": 5,
   "metadata": {},
   "outputs": [
    {
     "name": "stdout",
     "output_type": "stream",
     "text": [
      "<class 'int'>\n",
      "<class 'str'>\n",
      "<class 'float'>\n"
     ]
    }
   ],
   "source": [
    "x = 42\n",
    "y = \"Python\"\n",
    "z = 3.14\n",
    "\n",
    "print(type(x))\n",
    "print(type(y))\n",
    "print(type(z))"
   ]
  },
  {
   "cell_type": "markdown",
   "metadata": {},
   "source": [
    "Write a Python program to display:\n",
    "``` Name: [Your Name], Age: [Your Age] ```"
   ]
  },
  {
   "cell_type": "code",
   "execution_count": 6,
   "metadata": {},
   "outputs": [
    {
     "name": "stdout",
     "output_type": "stream",
     "text": [
      "Name: Faizan, Age: 30\n"
     ]
    }
   ],
   "source": [
    "Your_Name = 'Faizan'\n",
    "Your_Age = 30\n",
    "print (f'Name: {Your_Name}, Age: {Your_Age}')"
   ]
  },
  {
   "cell_type": "markdown",
   "metadata": {},
   "source": [
    "Write a program to calculate and print the result of the following:\n",
    "```\n",
    "(5 + 3) * 2 - 8 / 4\n",
    "```"
   ]
  },
  {
   "cell_type": "code",
   "execution_count": 7,
   "metadata": {},
   "outputs": [
    {
     "name": "stdout",
     "output_type": "stream",
     "text": [
      "14.0\n"
     ]
    }
   ],
   "source": [
    "print ((5 + 3) * 2 - 8 / 4)"
   ]
  },
  {
   "cell_type": "markdown",
   "metadata": {},
   "source": [
    "Write a Python program that takes two integers as input and prints whether the first number is greater than, less than, or equal to the second number."
   ]
  },
  {
   "cell_type": "code",
   "execution_count": 9,
   "metadata": {},
   "outputs": [
    {
     "name": "stdout",
     "output_type": "stream",
     "text": [
      "x 5 is lesser than y 8\n"
     ]
    }
   ],
   "source": [
    "x = int(input('Enter x: '))\n",
    "y = int(input('Enter y: '))\n",
    "if x>y:\n",
    "    print(f'x {x} is greater than y {y}')\n",
    "elif y>x:\n",
    "    print(f'x {x} is lesser than y {y}')\n",
    "elif x == y:\n",
    "    print(f'x {x} and y {y} are equal')"
   ]
  },
  {
   "cell_type": "markdown",
   "metadata": {},
   "source": [
    "Write a Python program to check if a number is both greater than 10 and divisible by 3."
   ]
  },
  {
   "cell_type": "code",
   "execution_count": 10,
   "metadata": {},
   "outputs": [
    {
     "name": "stdout",
     "output_type": "stream",
     "text": [
      "15\n",
      "<class 'int'>\n",
      "Value x = (15) is greater than 10 and divisible by 3\n"
     ]
    }
   ],
   "source": [
    "x = int(input('Enter x: '))\n",
    "print(x)\n",
    "print(type(x))\n",
    "if x > 10 and x % 3 == 0:\n",
    "    print (f'Value x = ({x}) is greater than 10 and divisible by 3')\n",
    "elif x < 10 and x % 3 == 0:\n",
    "    print(f'Value x = ({x}) is less than 10')\n",
    "elif x > 10 and not x % 3 == 0:\n",
    "    print(f'Value x = ({x}) is greater than 10 but not divisible by 3')"
   ]
  },
  {
   "cell_type": "markdown",
   "metadata": {},
   "source": [
    "Write a Python program to find whether a number is odd or even using the % operator."
   ]
  },
  {
   "cell_type": "code",
   "execution_count": 11,
   "metadata": {},
   "outputs": [
    {
     "name": "stdout",
     "output_type": "stream",
     "text": [
      "Number 4 is even.\n"
     ]
    }
   ],
   "source": [
    "x = int(input('Enter x: '))\n",
    "if x%2 == 0:\n",
    "    print (f'Number {x} is even.')\n",
    "else:\n",
    "    print (f'Number {x} is odd.')"
   ]
  },
  {
   "cell_type": "markdown",
   "metadata": {},
   "source": [
    "Write a Python program to increment a variable x by 5 and then multiply it by 2."
   ]
  },
  {
   "cell_type": "code",
   "execution_count": 12,
   "metadata": {},
   "outputs": [
    {
     "name": "stdout",
     "output_type": "stream",
     "text": [
      "24\n"
     ]
    }
   ],
   "source": [
    "x = int(input('Enter x: '))\n",
    "x = (x+5)*2\n",
    "print(x)"
   ]
  },
  {
   "cell_type": "markdown",
   "metadata": {},
   "source": [
    "Write a program to take a student's marks as input and print the grade based on the following:\n",
    "```\n",
    "Marks >= 90: Grade A\n",
    "Marks >= 80 and < 90: Grade B\n",
    "Marks >= 70 and < 80: Grade C\n",
    "Marks < 70: Grade F\n",
    "```"
   ]
  },
  {
   "cell_type": "code",
   "execution_count": 13,
   "metadata": {},
   "outputs": [
    {
     "name": "stdout",
     "output_type": "stream",
     "text": [
      "Your Grade is A\n"
     ]
    }
   ],
   "source": [
    "x = float(input('Enter x: '))\n",
    "if x >= 90:\n",
    "    print (f'Your Grade is A')\n",
    "elif 90 >x >=80:\n",
    "    print (f'Your Grade is B')\n",
    "elif 80 >x >=70:\n",
    "    print (f'Your Grade is C')\n",
    "elif 70 >x:\n",
    "    print (f'Your Grade is F')"
   ]
  },
  {
   "cell_type": "markdown",
   "metadata": {},
   "source": [
    "Write a program to take three numbers as input and print the largest among them."
   ]
  },
  {
   "cell_type": "code",
   "execution_count": 16,
   "metadata": {},
   "outputs": [
    {
     "name": "stdout",
     "output_type": "stream",
     "text": [
      "Y: 12.0 is greater than 8.0 and 7.0\n"
     ]
    }
   ],
   "source": [
    "x = float(input('Enter x: '))\n",
    "y = float(input('Enter y: '))\n",
    "z = float(input('Enter z: '))\n",
    "if x>y and x>z:\n",
    "    print(f\"X: {x} is greater than {y} and {z}\")\n",
    "if y>x and y>z:\n",
    "    print(f\"Y: {y} is greater than {x} and {z}\")\n",
    "if z>x and z>y:\n",
    "    print(f\"Z: {z} is greater than {x} and {y}\")"
   ]
  },
  {
   "cell_type": "code",
   "execution_count": null,
   "metadata": {},
   "outputs": [],
   "source": []
  }
 ],
 "metadata": {
  "kernelspec": {
   "display_name": "Python 3",
   "language": "python",
   "name": "python3"
  },
  "language_info": {
   "codemirror_mode": {
    "name": "ipython",
    "version": 3
   },
   "file_extension": ".py",
   "mimetype": "text/x-python",
   "name": "python",
   "nbconvert_exporter": "python",
   "pygments_lexer": "ipython3",
   "version": "3.12.6"
  }
 },
 "nbformat": 4,
 "nbformat_minor": 2
}
