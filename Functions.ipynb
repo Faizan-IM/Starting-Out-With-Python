{
 "cells": [
  {
   "cell_type": "markdown",
   "metadata": {},
   "source": [
    "# Functions"
   ]
  },
  {
   "cell_type": "markdown",
   "metadata": {},
   "source": [
    "## Keypoints"
   ]
  },
  {
   "cell_type": "markdown",
   "metadata": {},
   "source": [
    "- Functions in Python are blocks of code that perform specific tasks, enhancing code organization and reusability.\n",
    "- To create a function, use the `def` keyword, followed by a name and parentheses, with the code indented below.\n",
    "- Calling a function executes its code, and it can take inputs (arguments) and return outputs using the `return` statement.\n",
    "- Common mistakes include forgetting to call the function, mismatching arguments, and using mutable default parameters, which can be avoided with careful coding practices."
   ]
  },
  {
   "cell_type": "markdown",
   "metadata": {},
   "source": [
    "## Understanding Python Functions"
   ]
  },
  {
   "cell_type": "markdown",
   "metadata": {},
   "source": [
    "### What Are Functions and Why Use Them?"
   ]
  },
  {
   "cell_type": "markdown",
   "metadata": {},
   "source": [
    "Functions are essential in Python for `organizing code` into `reusable blocks` that perform specific tasks. They help break down complex problems, making your code easier to read and maintain. For example, instead of writing the same code multiple times to greet users, you can define a function once and call it whenever needed."
   ]
  },
  {
   "cell_type": "markdown",
   "metadata": {},
   "source": [
    "### How to Define a Function"
   ]
  },
  {
   "cell_type": "markdown",
   "metadata": {},
   "source": [
    "Defining a function starts with the `def` keyword, followed by the `function name` and `parentheses`. Inside the parentheses, you can list parameters if the function needs inputs. The function body, indented with four spaces, contains the code to execute."
   ]
  },
  {
   "cell_type": "markdown",
   "metadata": {},
   "source": [
    "#### Example:"
   ]
  },
  {
   "cell_type": "code",
   "execution_count": 2,
   "metadata": {},
   "outputs": [],
   "source": [
    "def greet():\n",
    "    print(\"Hello, Faizan!\")"
   ]
  },
  {
   "cell_type": "markdown",
   "metadata": {},
   "source": [
    "### How to Call a Function"
   ]
  },
  {
   "cell_type": "markdown",
   "metadata": {},
   "source": [
    "To run a function, simply use its `name` followed by `parentheses`. If it has `parameters`, provide the `arguments` inside the parentheses."
   ]
  },
  {
   "cell_type": "markdown",
   "metadata": {},
   "source": [
    "#### Example"
   ]
  },
  {
   "cell_type": "code",
   "execution_count": 4,
   "metadata": {},
   "outputs": [
    {
     "name": "stdout",
     "output_type": "stream",
     "text": [
      "Hello, Faizan!\n"
     ]
    }
   ],
   "source": [
    "greet()  "
   ]
  },
  {
   "cell_type": "markdown",
   "metadata": {},
   "source": [
    "### Parameters, Arguments, and Return Values"
   ]
  },
  {
   "cell_type": "markdown",
   "metadata": {},
   "source": [
    "- **Parameters** are variables in the function definition, while **arguments** are the values passed when calling it.\n",
    "- Use the **return** statement to send back a result, which can be stored in a variable for later use"
   ]
  },
  {
   "cell_type": "markdown",
   "metadata": {},
   "source": [
    "#### Example with parameters and return:"
   ]
  },
  {
   "cell_type": "code",
   "execution_count": 10,
   "metadata": {},
   "outputs": [
    {
     "name": "stdout",
     "output_type": "stream",
     "text": [
      "8\n"
     ]
    }
   ],
   "source": [
    "def add(a, b):\n",
    "    return a + b\n",
    "result = add(3,5)  # result is 8\n",
    "print(result)"
   ]
  },
  {
   "cell_type": "markdown",
   "metadata": {},
   "source": [
    "### Practical Examples"
   ]
  },
  {
   "cell_type": "markdown",
   "metadata": {},
   "source": [
    "Here are simple functions to illustrate:"
   ]
  },
  {
   "cell_type": "markdown",
   "metadata": {},
   "source": [
    "#### 1) No parameters, no return:"
   ]
  },
  {
   "cell_type": "code",
   "execution_count": 12,
   "metadata": {},
   "outputs": [
    {
     "name": "stdout",
     "output_type": "stream",
     "text": [
      "What is your name?\n"
     ]
    }
   ],
   "source": [
    "def ask_name():\n",
    "    print(\"What is your name?\")\n",
    "ask_name()  # Outputs: What is your name?\n"
   ]
  },
  {
   "cell_type": "markdown",
   "metadata": {},
   "source": [
    "#### 2) With parameters, no return:"
   ]
  },
  {
   "cell_type": "code",
   "execution_count": 18,
   "metadata": {},
   "outputs": [
    {
     "name": "stdout",
     "output_type": "stream",
     "text": [
      "Hi, Faizan!\n"
     ]
    }
   ],
   "source": [
    "def greet_person(name):\n",
    "    print(f\"Hi, {name}!\")\n",
    "greet_person(\"Faizan\")  "
   ]
  },
  {
   "cell_type": "markdown",
   "metadata": {},
   "source": [
    "#### 3) With parameters and return:"
   ]
  },
  {
   "cell_type": "code",
   "execution_count": 25,
   "metadata": {},
   "outputs": [
    {
     "name": "stdout",
     "output_type": "stream",
     "text": [
      "16\n"
     ]
    }
   ],
   "source": [
    "# def square(number):\n",
    "#     return int(number) ** 2\n",
    "\n",
    "# print(square(\"3\"))  # Outputs: 9\n",
    "\n",
    "def square(number):\n",
    "    return number ** 2\n",
    "print(square(4))  # Outputs: 16"
   ]
  },
  {
   "cell_type": "markdown",
   "metadata": {},
   "source": [
    "### Common Mistakes to Avoid"
   ]
  },
  {
   "cell_type": "markdown",
   "metadata": {},
   "source": [
    "Beginners often forget to call functions, mismatch the number of arguments, or make indentation errors. A notable pitfall is using mutable objects like lists as default parameters, which can lead to unexpected behavior. For instance:"
   ]
  },
  {
   "cell_type": "markdown",
   "metadata": {},
   "source": [
    "#### Incorrect"
   ]
  },
  {
   "cell_type": "code",
   "execution_count": 26,
   "metadata": {},
   "outputs": [],
   "source": [
    "def append_to_list(item, my_list=[]):\n",
    "    my_list.append(item)\n",
    "    return my_list"
   ]
  },
  {
   "cell_type": "markdown",
   "metadata": {},
   "source": [
    "This can cause issues because the default list persists between calls. Correct it by using None and initializing inside the function:"
   ]
  },
  {
   "cell_type": "markdown",
   "metadata": {},
   "source": [
    "#### Correct"
   ]
  },
  {
   "cell_type": "code",
   "execution_count": 27,
   "metadata": {},
   "outputs": [],
   "source": [
    "def append_to_list(item, my_list=None):\n",
    "    if my_list is None:\n",
    "        my_list = []\n",
    "    my_list.append(item)\n",
    "    return my_list"
   ]
  },
  {
   "cell_type": "markdown",
   "metadata": {},
   "source": [
    "Arguments can be `positional`, matching the order of parameters, or keyword-based, specifying the parameter name. This flexibility is unexpected for beginners but powerful for complex functions. For example:"
   ]
  },
  {
   "cell_type": "code",
   "execution_count": 29,
   "metadata": {},
   "outputs": [
    {
     "name": "stdout",
     "output_type": "stream",
     "text": [
      "Faizan is 31 years old.\n",
      "Aabid is 29 years old.\n"
     ]
    }
   ],
   "source": [
    "def describe_person(name, age):\n",
    "    print(f\"{name} is {age} years old.\")\n",
    "\n",
    "describe_person(\"Faizan\", 31)  \n",
    "describe_person(age=29, name=\"Aabid\")  "
   ]
  },
  {
   "cell_type": "markdown",
   "metadata": {},
   "source": [
    "### Advanced Function Features"
   ]
  },
  {
   "cell_type": "markdown",
   "metadata": {},
   "source": [
    "Python offers additional features like `default parameters`, `arbitrary arguments`, and `recursion`, which, while advanced, are worth mentioning for completeness."
   ]
  },
  {
   "cell_type": "markdown",
   "metadata": {},
   "source": [
    "#### Default Parameters: "
   ]
  },
  {
   "cell_type": "markdown",
   "metadata": {},
   "source": [
    "Set a default value for parameters, making them optional. Example:"
   ]
  },
  {
   "cell_type": "code",
   "execution_count": 31,
   "metadata": {},
   "outputs": [
    {
     "name": "stdout",
     "output_type": "stream",
     "text": [
      "9\n",
      "27\n",
      "16\n"
     ]
    }
   ],
   "source": [
    "def power(base, exponent=2):\n",
    "    return base ** exponent\n",
    "print(power(3))  # Outputs: 9 (3^2)\n",
    "print(power(3, 3))  # Outputs: 27 (3^3)\n",
    "print(power(2,4))"
   ]
  },
  {
   "cell_type": "markdown",
   "metadata": {},
   "source": [
    "#### Arbitrary Arguments: "
   ]
  },
  {
   "cell_type": "markdown",
   "metadata": {},
   "source": [
    "Use `*args` for a variable number of positional arguments, received as a tuple, and `**kwargs` for keyword arguments, received as a dictionary. This is particularly useful for flexible functions."
   ]
  },
  {
   "cell_type": "markdown",
   "metadata": {},
   "source": [
    "#### Recursion: "
   ]
  },
  {
   "cell_type": "markdown",
   "metadata": {},
   "source": [
    "A function calling itself, useful for problems like calculating factorials. Example:"
   ]
  },
  {
   "cell_type": "code",
   "execution_count": 35,
   "metadata": {},
   "outputs": [
    {
     "name": "stdout",
     "output_type": "stream",
     "text": [
      "Factorial of 5 is 120.\n"
     ]
    }
   ],
   "source": [
    "def factorial(n):\n",
    "    if n == 0:\n",
    "        return 1\n",
    "    else:\n",
    "        return n * factorial(n - 1)\n",
    "print(f\"Factorial of 5 is {factorial(5)}.\")"
   ]
  },
  {
   "cell_type": "markdown",
   "metadata": {},
   "source": [
    "### Summary"
   ]
  },
  {
   "attachments": {
    "image.png": {
     "image/png": "[encoded data removed]"
    }
   },
   "cell_type": "markdown",
   "metadata": {},
   "source": [
    "![image.png](attachment:image.png)"
   ]
  },
  {
   "cell_type": "markdown",
   "metadata": {},
   "source": [
    "## Understanding `*args` and `**kwargs`"
   ]
  },
  {
   "cell_type": "markdown",
   "metadata": {},
   "source": [
    "- It seems likely that `*args` allows functions to accept any number of positional arguments, collected as a tuple, while `**kwargs` handles keyword arguments, collected as a dictionary, enhancing function flexibility.\n",
    "- Research suggests these are particularly useful for creating adaptable functions, with `*args` for variable positional inputs and `**kwargs` for variable named parameters.\n",
    "- The evidence leans toward using both in the same function, with the order: required arguments, then `*args`, then `**kwargs`, for maximum versatility."
   ]
  },
  {
   "cell_type": "markdown",
   "metadata": {},
   "source": [
    "### Understanding `*args` and `**kwargs`"
   ]
  },
  {
   "cell_type": "markdown",
   "metadata": {},
   "source": [
    "`*args` and `**kwargs` are special parameters in Python that make functions more flexible by accepting a variable number of arguments. `*args` is for positional arguments, which are collected into a `tuple`, and `**kwargs` is for keyword arguments, collected into a `dictionary`."
   ]
  },
  {
   "cell_type": "markdown",
   "metadata": {},
   "source": [
    "#### Example of `*args`"
   ]
  },
  {
   "cell_type": "markdown",
   "metadata": {},
   "source": [
    "Here’s how `*args` works: it lets you pass any number of values, and the function can process them. For instance:"
   ]
  },
  {
   "cell_type": "code",
   "execution_count": 39,
   "metadata": {},
   "outputs": [
    {
     "name": "stdout",
     "output_type": "stream",
     "text": [
      "6\n",
      "22\n"
     ]
    }
   ],
   "source": [
    "def sum_numbers(*args):\n",
    "    total = 0\n",
    "    for num in args:\n",
    "        total += num\n",
    "    return total\n",
    "\n",
    "print(sum_numbers(1, 2, 3))  # Outputs: 6\n",
    "print(sum_numbers(4, 5, 6, 7))  # Outputs: 22\n",
    "\n",
    "# def multiply_numbers(*args):\n",
    "#     total = 1\n",
    "#     for num in args:\n",
    "#         total *= num\n",
    "#     return total\n",
    "# print(multiply_numbers(1, 2, 3))  # Outputs: 6\n",
    "\n",
    "# def mult_numbers(*args):\n",
    "#     result = 1\n",
    "#     for num in args:\n",
    "#         if num == 0:\n",
    "#             return 1\n",
    "#         else:\n",
    "#             result *= num\n",
    "#     return result\n",
    "# print(mult_numbers(1, 3))  # Outputs: 3"
   ]
  },
  {
   "cell_type": "markdown",
   "metadata": {},
   "source": [
    "#### Example of `**kwargs`"
   ]
  },
  {
   "cell_type": "markdown",
   "metadata": {},
   "source": [
    "For `**kwargs`, it’s about named parameters. Here’s an example:"
   ]
  },
  {
   "cell_type": "code",
   "execution_count": 44,
   "metadata": {},
   "outputs": [
    {
     "name": "stdout",
     "output_type": "stream",
     "text": [
      "name: Faizan\n",
      "age: 31\n",
      "city: Bahawalpur\n"
     ]
    }
   ],
   "source": [
    "def print_info(**kwargs):\n",
    "    for key, value in kwargs.items():\n",
    "        print(f\"{key}: {value}\")\n",
    "\n",
    "print_info(name=\"Faizan\", age=31, city=\"Bahawalpur\")\n"
   ]
  },
  {
   "cell_type": "markdown",
   "metadata": {},
   "source": [
    "### Combining Both"
   ]
  },
  {
   "cell_type": "markdown",
   "metadata": {},
   "source": [
    "You can use both in one function, which is unexpectedly versatile for handling mixed inputs. Here’s an example:"
   ]
  },
  {
   "cell_type": "code",
   "execution_count": 47,
   "metadata": {},
   "outputs": [
    {
     "name": "stdout",
     "output_type": "stream",
     "text": [
      "Student: Faizan\n",
      "Scores: (90, 85, 95)\n",
      "Average score: 90.0\n",
      "Metadata:\n",
      "  class_name: Math\n",
      "  teacher: Abd-ul-Haq\n",
      "Excellent! You have got an A grade.\n"
     ]
    }
   ],
   "source": [
    "def student_report(name, *scores, **metadata):\n",
    "    print(f\"Student: {name}\")\n",
    "    if scores:\n",
    "        print(f\"Scores: {scores}\")\n",
    "        average = sum(scores) / len(scores)\n",
    "        print(f\"Average score: {average}\")\n",
    "    if metadata:\n",
    "        print(\"Metadata:\")\n",
    "        for key, value in metadata.items():\n",
    "            print(f\"  {key}: {value}\")\n",
    "    if average >= 90:\n",
    "        print(\"Excellent! You have got an A grade.\")\n",
    "    elif average >= 80:\n",
    "        print(\"Good job! You have got a B grade.\")\n",
    "    elif average >= 70:\n",
    "        print(\"You have got a C grade.\")\n",
    "\n",
    "student_report(\"Faizan\", 90, 85, 95, class_name=\"Math\", teacher=\"Abd-ul-Haq\")"
   ]
  },
  {
   "cell_type": "markdown",
   "metadata": {},
   "source": [
    "## Recursive Function"
   ]
  },
  {
   "cell_type": "markdown",
   "metadata": {},
   "source": [
    "### 1. Key Components of a Recursive Function"
   ]
  },
  {
   "cell_type": "markdown",
   "metadata": {},
   "source": [
    "- Base Condition (Stopping Condition):\n",
    "\n",
    "    - It defines when the recursion should stop.\n",
    "\n",
    "    - Without a base condition, recursion would continue indefinitely, leading to a stack overflow error.\n",
    "\n",
    "- Recursive Case (Smaller Sub-problem):\n",
    "\n",
    "    - This is where the function calls itself with a modified argument to break the problem into smaller pieces."
   ]
  },
  {
   "cell_type": "markdown",
   "metadata": {},
   "source": [
    "```python\n",
    "def recursive_function(parameters):\n",
    "    if base_case_condition:\n",
    "        return base_result\n",
    "    else:\n",
    "        return recursive_function(modified_parameters)\n",
    "```"
   ]
  },
  {
   "cell_type": "markdown",
   "metadata": {},
   "source": [
    "### 2. How Recursive Functions Work?"
   ]
  },
  {
   "cell_type": "markdown",
   "metadata": {},
   "source": [
    "When a recursive function is called:\n",
    "\n",
    "1) It first checks the base condition. If met, it stops and returns a value.\n",
    "\n",
    "2) Otherwise, it calls itself with a smaller problem.\n",
    "\n",
    "3) Each recursive call is added to the call stack.\n",
    "\n",
    "4) When the base case is reached, the function starts returning values back up the call stack.\n"
   ]
  },
  {
   "cell_type": "markdown",
   "metadata": {},
   "source": [
    "1. **Function Call** <br>\n",
    "A recursive function is called, just like any other function. The function receives input parameters and starts executing.\n",
    "\n",
    "2. **Base Case Check**<br>\n",
    "The function checks if the input parameters meet the base case condition. If they do, the function returns a value without calling itself again.\n",
    "\n",
    "3. **Recursive Call**<br>\n",
    "If the input parameters don't meet the base case condition, the function calls itself with new input parameters. This creates a new instance of the function, which starts executing from the beginning.\n",
    "\n",
    "4. **Recursive Call Stack**<br>\n",
    "Each recursive call creates a new stack frame, which contains the function's local variables and parameters. The stack frames are stored in memory, allowing the function to keep track of its recursive calls.\n",
    "\n",
    "5. **Return Values**<br>\n",
    "When a recursive call returns a value, it is passed back to the previous instance of the function. This process continues until the original function call returns a value.\n",
    "\n",
    "6. **Stack Frame Removal**<br>\n",
    "As each recursive call returns, its stack frame is removed from memory. This ensures that the memory usage remains manageable and prevents stack overflows."
   ]
  },
  {
   "cell_type": "markdown",
   "metadata": {},
   "source": [
    "### 3. Example 1: Fibonacci Series Using Recursion"
   ]
  },
  {
   "cell_type": "code",
   "execution_count": 50,
   "metadata": {},
   "outputs": [
    {
     "name": "stdout",
     "output_type": "stream",
     "text": [
      "8\n",
      "21\n"
     ]
    }
   ],
   "source": [
    "def fibonacci(n):\n",
    "    if n == 0:  # Base condition\n",
    "        return 0\n",
    "    elif n == 1:\n",
    "        return 1\n",
    "    return fibonacci(n - 1) + fibonacci(n - 2)  # Recursive call\n",
    "\n",
    "print(fibonacci(6))  # Output: 8\n",
    "def fibonacci_iterative(n):\n",
    "    a, b = 0, 1\n",
    "    for _ in range(n):\n",
    "        a, b = b, a + b\n",
    "    return a\n",
    "print(fibonacci_iterative(8))  "
   ]
  },
  {
   "cell_type": "markdown",
   "metadata": {},
   "source": [
    "```python\n",
    "fibonacci(6) = fibonacci(5) + fibonacci(4)\n",
    "fibonacci(5) = fibonacci(4) + fibonacci(3)\n",
    "fibonacci(4) = fibonacci(3) + fibonacci(2)\n",
    "...\n",
    "fibonacci(1) = 1 (Base case)\n",
    "fibonacci(0) = 0 (Base case)\n",
    "```"
   ]
  },
  {
   "cell_type": "markdown",
   "metadata": {},
   "source": [
    "### 4. Example 2: Reverse a String Using Recursion"
   ]
  },
  {
   "cell_type": "markdown",
   "metadata": {},
   "source": [
    "#### Recursive Breakdown:"
   ]
  },
  {
   "cell_type": "markdown",
   "metadata": {},
   "source": [
    "- **Base Case:** If the string is empty or has only one character, return it.\n",
    "- **Recursive Case:** Take the last character and append the reverse of the remaining string."
   ]
  },
  {
   "cell_type": "code",
   "execution_count": 51,
   "metadata": {},
   "outputs": [
    {
     "name": "stdout",
     "output_type": "stream",
     "text": [
      "olleh\n"
     ]
    }
   ],
   "source": [
    "def reverse_string(s):\n",
    "    if len(s) == 0:  # Base condition\n",
    "        return s\n",
    "    return s[-1] + reverse_string(s[:-1])  # Recursive call\n",
    "\n",
    "print(reverse_string(\"hello\"))  # Output: \"olleh\"\n"
   ]
  },
  {
   "cell_type": "markdown",
   "metadata": {},
   "source": [
    "Working:\n",
    "\n",
    "```python\n",
    "reverse_string(\"hello\")  \n",
    "=> \"o\" + reverse_string(\"hell\")  \n",
    "=> \"o\" + (\"l\" + reverse_string(\"hel\"))  \n",
    "=> \"o\" + (\"l\" + (\"l\" + reverse_string(\"he\")))  \n",
    "=> \"o\" + (\"l\" + (\"l\" + (\"e\" + reverse_string(\"h\"))))  \n",
    "=> \"o\" + (\"l\" + (\"l\" + (\"e\" + (\"h\" + reverse_string(\"\")))))  \n",
    "=> \"o\" + (\"l\" + (\"l\" + (\"e\" + (\"h\" + \"\"))))  \n",
    "=> \"o\" + (\"l\" + (\"l\" + (\"e\" + \"h\")))  \n",
    "=> \"o\" + (\"l\" + (\"l\" + \"eh\"))  \n",
    "=> \"o\" + (\"l\" + \"leh\")  \n",
    "=> \"o\" + \"lleh\"  \n",
    "=> \"olleh\""
   ]
  },
  {
   "cell_type": "code",
   "execution_count": 36,
   "metadata": {},
   "outputs": [
    {
     "data": {
      "text/html": [
       "\n",
       "    <style>\n",
       "        body {\n",
       "            background-color: #f 2fff2;\n",
       "        }\n",
       "        h1 {\n",
       "            text-align: center;\n",
       "            font-weight: bold;\n",
       "            font-size: 36px;\n",
       "            color: #4295F4;\n",
       "            text-decoration: underline;\n",
       "            padding-top: 15px;\n",
       "        }\n",
       "        \n",
       "        h2 {\n",
       "            text-align: left;\n",
       "            font-weight: bold;\n",
       "            font-size: 30px;\n",
       "            color: #4A000A;\n",
       "            text-decoration: underline;\n",
       "            padding-top: 10px;\n",
       "        }\n",
       "        \n",
       "        h3 {\n",
       "            text-align: left;\n",
       "            font-weight: bold;\n",
       "            font-size: 30px;\n",
       "            color: #f0081e;\n",
       "            text-decoration: underline;\n",
       "            padding-top: 5px;\n",
       "        }\n",
       "\n",
       "        \n",
       "        p {\n",
       "            text-align: center;\n",
       "            font-size: 12 px;\n",
       "            color: #0B9923;\n",
       "        }\n",
       "    </style>\n",
       "\n",
       "<h1>Hello</h1>\n",
       "<p>Hello World</p>\n",
       "<h2> Hello</h2>\n",
       "<h3> World </h3>\n"
      ],
      "text/plain": [
       "<IPython.core.display.HTML object>"
      ]
     },
     "execution_count": 36,
     "metadata": {},
     "output_type": "execute_result"
    }
   ],
   "source": [
    "from IPython.core.display import HTML\n",
    "\n",
    "style = \"\"\"\n",
    "    <style>\n",
    "        body {\n",
    "            background-color: #f 2fff2;\n",
    "        }\n",
    "        h1 {\n",
    "            text-align: center;\n",
    "            font-weight: bold;\n",
    "            font-size: 36px;\n",
    "            color: #4295F4;\n",
    "            text-decoration: underline;\n",
    "            padding-top: 15px;\n",
    "        }\n",
    "        \n",
    "        h2 {\n",
    "            text-align: left;\n",
    "            font-weight: bold;\n",
    "            font-size: 30px;\n",
    "            color: #4A000A;\n",
    "            text-decoration: underline;\n",
    "            padding-top: 10px;\n",
    "        }\n",
    "        \n",
    "        h3 {\n",
    "            text-align: left;\n",
    "            font-weight: bold;\n",
    "            font-size: 30px;\n",
    "            color: #f0081e;\n",
    "            text-decoration: underline;\n",
    "            padding-top: 5px;\n",
    "        }\n",
    "\n",
    "        \n",
    "        p {\n",
    "            text-align: center;\n",
    "            font-size: 12 px;\n",
    "            color: #0B9923;\n",
    "        }\n",
    "    </style>\n",
    "\"\"\"\n",
    "\n",
    "html_content = \"\"\"\n",
    "<h1>Hello</h1>\n",
    "<p>Hello World</p>\n",
    "<h2> Hello</h2>\n",
    "<h3> World </h3>\n",
    "\"\"\"\n",
    "\n",
    "HTML(style + html_content)"
   ]
  },
  {
   "cell_type": "code",
   "execution_count": null,
   "metadata": {},
   "outputs": [],
   "source": []
  }
 ],
 "metadata": {
  "kernelspec": {
   "display_name": "Python 3",
   "language": "python",
   "name": "python3"
  },
  "language_info": {
   "codemirror_mode": {
    "name": "ipython",
    "version": 3
   },
   "file_extension": ".py",
   "mimetype": "text/x-python",
   "name": "python",
   "nbconvert_exporter": "python",
   "pygments_lexer": "ipython3",
   "version": "3.12.6"
  }
 },
 "nbformat": 4,
 "nbformat_minor": 2
}
