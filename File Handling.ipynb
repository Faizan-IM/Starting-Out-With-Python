{
 "cells": [
  {
   "cell_type": "markdown",
   "id": "629dba6a",
   "metadata": {},
   "source": [
    "# File Handling"
   ]
  },
  {
   "cell_type": "markdown",
   "id": "617e9d8a",
   "metadata": {},
   "source": [
    "## 1. Introduction to File Handling in Python"
   ]
  },
  {
   "cell_type": "markdown",
   "metadata": {},
   "source": [
    "**Definition:** File handling enables reading/writing data to/from files, crucial for persistent data storage.<br>\n",
    "File handling in Python refers to the process of `reading` from and `writing` to files stored on your system. It is essential for tasks such as `logging, data processing, configuration management, and much more`.<br>\n",
    "File handling in Python allows programs to interact with files on the system, enabling persistent data storage beyond program execution. This is crucial for saving user data, logs, or configurations. Files are primarily categorized into text files (e.g., .txt, .csv) for human-readable content and binary files (e.g., .jpg, .exe) for machine-readable data.<br>\n",
    "File handling refers to the ability to read from and write to files on a storage system. In Python, file handling involves working with the file system to perform operations such as creating, reading, updating, and deleting files. This capability is fundamental to many programming tasks, from saving application settings to processing large datasets."
   ]
  },
  {
   "cell_type": "markdown",
   "id": "c974a0f4",
   "metadata": {},
   "source": [
    "### File Types:"
   ]
  },
  {
   "cell_type": "markdown",
   "id": "7b3f3a8d",
   "metadata": {},
   "source": [
    "- **Text Files:** Human-readable. Files that store data in plain text format (e.g., `.txt`, `.csv`).\n",
    "- **Binary Files:** Store data in machine-readable format. Files that contain data in a binary format (e.g., `.png`, `.exe`)."
   ]
  },
  {
   "cell_type": "markdown",
   "id": "0b253f55",
   "metadata": {},
   "source": [
    "Understanding file handling is crucial because it allows programs to:\n",
    "\n",
    "- Store data permanently beyond program execution\n",
    "\n",
    "- Process data that wouldn't fit entirely in memory\n",
    "\n",
    "- Share information between different applications\n",
    "\n",
    "- Maintain logs for debugging and auditing\n",
    "\n",
    "- Configure application behavior through external files"
   ]
  },
  {
   "cell_type": "markdown",
   "id": "8bdcef0f",
   "metadata": {},
   "source": [
    "## 2. Basic File Operations"
   ]
  },
  {
   "cell_type": "markdown",
   "id": "8f0781b2",
   "metadata": {},
   "source": [
    "### Opening and Closing Files\n",
    "Python provides the `open()` function to open a file and the `close()` method to close it."
   ]
  },
  {
   "cell_type": "markdown",
   "id": "d6f649a0",
   "metadata": {},
   "source": [
    "#### Modes of Operation:"
   ]
  },
  {
   "cell_type": "markdown",
   "id": "2f6b6977",
   "metadata": {},
   "source": [
    "- Read (`'r'`): Opens a file for reading (default mode).\n",
    "\n",
    "- Write (`'w'`): Opens a file for writing (creates a new file or truncates an existing one).\n",
    "\n",
    "- Append (`'a'`): Opens a file for appending data.\n",
    "\n",
    "- Read/Write (`'r+'`): Opens a file for both reading and writing.\n",
    "\n",
    "- Binary (`'b'`): Used with the above modes for binary files (e.g., `'rb'`, `'wb'`)."
   ]
  },
  {
   "cell_type": "markdown",
   "id": "b59ce5d8",
   "metadata": {},
   "source": [
    "```python\n",
    "# Example: Opening files in different modes\n",
    "\n",
    "# Open a text file for reading\n",
    "file_read = open(\"example.txt\", \"r\")\n",
    "print(\"File opened in read mode.\")\n",
    "file_read.close()  # Always close the file after operations\n",
    "\n",
    "# Open a file for writing (this will create a new file or `overwrite` an existing one)\n",
    "file_write = open(\"example_write.txt\", \"w\")\n",
    "file_write.write(\"Hello, World!\\n\")\n",
    "print(\"File written in write mode.\")\n",
    "file_write.close()\n",
    "\n",
    "# Open a file for appending data\n",
    "file_append = open(\"example_write.txt\", \"a\")\n",
    "file_append.write(\"Appending a new line.\\n\")\n",
    "print(\"Data appended to file.\")\n",
    "file_append.close()\n",
    "```"
   ]
  },
  {
   "cell_type": "code",
   "execution_count": 4,
   "id": "f17cfe46",
   "metadata": {},
   "outputs": [
    {
     "name": "stdout",
     "output_type": "stream",
     "text": [
      "File opened in read mode.\n"
     ]
    }
   ],
   "source": [
    "# Open a text file for reading\n",
    "file_read = open(\"example.txt\", \"r\")\n",
    "print(\"File opened in read mode.\")\n",
    "file_read.close()  # Always close the file after operations"
   ]
  },
  {
   "cell_type": "code",
   "execution_count": 6,
   "id": "49523798",
   "metadata": {},
   "outputs": [],
   "source": [
    "# Open in write mode (creates if nonexistent)\n",
    "file = open(\"example_write.txt\", \"w\", encoding='utf-8')\n",
    "file.write(\"Hello Faizan😒!\")\n",
    "file.close()  # Always close to free resources"
   ]
  },
  {
   "cell_type": "markdown",
   "id": "5b00d185",
   "metadata": {},
   "source": [
    "### Working with Context ManagersWorking with Context Managers"
   ]
  },
  {
   "cell_type": "markdown",
   "id": "b67518e9",
   "metadata": {},
   "source": [
    "#### The `with` Statement"
   ]
  },
  {
   "cell_type": "markdown",
   "id": "5523125a",
   "metadata": {},
   "source": [
    "The `with` statement simplifies file handling by automatically closing the file after its block of code is executed, even if exceptions occur."
   ]
  },
  {
   "cell_type": "markdown",
   "id": "49eaa884",
   "metadata": {},
   "source": [
    "##### Advantages\n",
    "- **Automatic Resource Management:** No need to manually close the file.\n",
    "\n",
    "- **Cleaner Code:** Reduces the chances of errors like leaving files open."
   ]
  },
  {
   "cell_type": "code",
   "execution_count": 16,
   "id": "c1824757",
   "metadata": {},
   "outputs": [
    {
     "name": "stdout",
     "output_type": "stream",
     "text": [
      "File content:\n",
      "Hello Faizan😒!\n"
     ]
    }
   ],
   "source": [
    "# Example: Using 'with' to read a file\n",
    "\n",
    "with open(\"example_write.txt\", \"r\", encoding='utf-8') as file:\n",
    "    content = file.read()\n",
    "    print(\"File content:\")\n",
    "    print(content)\n",
    "\n",
    "# No need to call file.close() explicitly\n"
   ]
  },
  {
   "cell_type": "markdown",
   "id": "192353c6",
   "metadata": {},
   "source": [
    "## 3. Reading Files"
   ]
  },
  {
   "cell_type": "markdown",
   "id": "84d99e00",
   "metadata": {},
   "source": [
    "### Methods to Read Files"
   ]
  },
  {
   "cell_type": "markdown",
   "id": "32727026",
   "metadata": {},
   "source": [
    "- `read():` Reads the entire file content as a single string.\n",
    "\n",
    "- `readline():` Reads one line from the file.\n",
    "\n",
    "- `readlines():` Reads all the lines and returns them as a list."
   ]
  },
  {
   "cell_type": "markdown",
   "id": "392f58fb",
   "metadata": {},
   "source": [
    "Hands-on Example: Reading a Text File Line by Line\n",
    "\n",
    "```python\n",
    "# Example: Reading a text file line by line\n",
    "\n",
    "# Ensure 'sample.txt' exists with multiple lines of text.\n",
    "with open(\"sample.txt\", \"r\") as file:\n",
    "    lines = file.readlines()  # Read all lines into a list\n",
    "\n",
    "# Display each line\n",
    "for index, line in enumerate(lines, start=1):\n",
    "    print(f\"Line {index}: {line.strip()}\")  # .strip() removes newline characters\n",
    "\n",
    "# You can now use the 'lines' list for further processing.\n",
    "```"
   ]
  },
  {
   "cell_type": "code",
   "execution_count": 7,
   "id": "c0084403",
   "metadata": {},
   "outputs": [
    {
     "name": "stdout",
     "output_type": "stream",
     "text": [
      "['This is an example file for our notebook File Handling. ']\n"
     ]
    }
   ],
   "source": [
    "with open(\"example.txt\", \"r\", encoding='utf-8') as file:\n",
    "    lines = file.readlines()  # Stores lines in a list\n",
    "print(lines)  "
   ]
  },
  {
   "cell_type": "code",
   "execution_count": 8,
   "id": "91c72f8e",
   "metadata": {},
   "outputs": [
    {
     "name": "stdout",
     "output_type": "stream",
     "text": [
      "Line 1: This is an example file for our notebook File Handling.\n"
     ]
    }
   ],
   "source": [
    "for index, line in enumerate(lines, start=1):\n",
    "    print(f\"Line {index}: {line.strip()}\")"
   ]
  },
  {
   "cell_type": "markdown",
   "id": "59d584be",
   "metadata": {},
   "source": [
    "## 4. Writing to Files"
   ]
  },
  {
   "cell_type": "markdown",
   "id": "f8fef506",
   "metadata": {},
   "source": [
    "#### Methods to Write Data"
   ]
  },
  {
   "cell_type": "markdown",
   "id": "8086f5f6",
   "metadata": {},
   "source": [
    "- `write()`: Writes a string to a file.\n",
    "\n",
    "- `writelines()`: Writes a list of strings to a file."
   ]
  },
  {
   "cell_type": "code",
   "execution_count": 11,
   "id": "c05231a9",
   "metadata": {},
   "outputs": [
    {
     "name": "stdout",
     "output_type": "stream",
     "text": [
      "Your input has been saved to 'user_input.txt'.\n"
     ]
    }
   ],
   "source": [
    "# Example: Writing user input to a file\n",
    "\n",
    "user_input = input(\"Enter some text to write to the file: \")\n",
    "\n",
    "with open(\"user_input.txt\", \"w\", encoding='utf-8') as file:\n",
    "    file.write(user_input + \"\\n\")  # Write the input followed by a newline\n",
    "\n",
    "print(\"Your input has been saved to 'user_input.txt'.\")\n"
   ]
  },
  {
   "cell_type": "code",
   "execution_count": 12,
   "id": "f5db3837",
   "metadata": {},
   "outputs": [
    {
     "name": "stdout",
     "output_type": "stream",
     "text": [
      "Your input has been saved to 'user_input.txt'.\n"
     ]
    }
   ],
   "source": [
    "# Example: Writing user input to a file\n",
    "\n",
    "user_input = input(\"Enter some text to write to the file: \")\n",
    "\n",
    "with open(\"user_input1.txt\", \"w\", encoding='utf-8') as file:\n",
    "    file.writelines(user_input + \"\\n\")  # Write the input followed by a newline\n",
    "\n",
    "print(\"Your input has been saved to 'user_input.txt'.\")"
   ]
  },
  {
   "cell_type": "markdown",
   "id": "cdaf04cd",
   "metadata": {},
   "source": [
    "## 5. Appending to Files"
   ]
  },
  {
   "cell_type": "markdown",
   "id": "933cbfd4",
   "metadata": {},
   "source": [
    "### Adding Content to Existing Files"
   ]
  },
  {
   "cell_type": "markdown",
   "id": "cf7d4730",
   "metadata": {},
   "source": [
    "Appending mode (`'a'`) allows you to add content to the end of an existing file without `overwriting` its current content."
   ]
  },
  {
   "cell_type": "code",
   "execution_count": 13,
   "id": "2feee2e8",
   "metadata": {},
   "outputs": [
    {
     "name": "stdout",
     "output_type": "stream",
     "text": [
      "Data has been appended to 'user_input.txt'.\n"
     ]
    }
   ],
   "source": [
    "# Example: Appending data to an existing file\n",
    "\n",
    "additional_text = \"Hello Faizan! This is an additional line of text.\"\n",
    "\n",
    "with open(\"user_input.txt\", \"a\") as file:\n",
    "    file.write(additional_text + \"\\n\")\n",
    "\n",
    "print(\"Data has been appended to 'user_input.txt'.\")\n"
   ]
  },
  {
   "cell_type": "markdown",
   "id": "f626fe6c",
   "metadata": {},
   "source": [
    "## 6. File Manipulation Functions"
   ]
  },
  {
   "cell_type": "markdown",
   "id": "b7d25a60",
   "metadata": {},
   "source": [
    "### Common File Manipulation Tasks"
   ]
  },
  {
   "cell_type": "markdown",
   "id": "93627208",
   "metadata": {},
   "source": [
    "- **Checking File Existence:** `os.path.exists()`\n",
    "\n",
    "- **Getting File Size:** `os.path.getsize()`\n",
    "\n",
    "- **Deleting Files:** `os.remove()`"
   ]
  },
  {
   "cell_type": "code",
   "execution_count": 14,
   "id": "5fb1ac78",
   "metadata": {},
   "outputs": [
    {
     "name": "stdout",
     "output_type": "stream",
     "text": [
      "File 'temp_file.txt' exists.\n",
      "File size: 23 bytes\n"
     ]
    }
   ],
   "source": [
    "import os\n",
    "\n",
    "# Create a file\n",
    "file_name_new = \"temp_file.txt\"\n",
    "with open(file_name_new, \"w\", encoding='utf-8') as file:\n",
    "    file.write(\"Temporary file content.\")\n",
    "\n",
    "# Check if the file exists\n",
    "if os.path.exists(file_name_new):\n",
    "    print(f\"File '{file_name_new}' exists.\")\n",
    "    # Get the file size\n",
    "    size = os.path.getsize(file_name_new)\n",
    "    print(f\"File size: {size} bytes\")\n",
    "else:\n",
    "    print(f\"File '{file_name_new}' does not exist.\")\n"
   ]
  },
  {
   "cell_type": "code",
   "execution_count": 15,
   "id": "e9764a5d",
   "metadata": {},
   "outputs": [
    {
     "name": "stdout",
     "output_type": "stream",
     "text": [
      "File 'temp_file.txt' has been deleted.\n",
      "File 'temp_file.txt' does not exist.\n"
     ]
    }
   ],
   "source": [
    "# Delete the file\n",
    "os.remove(file_name_new)\n",
    "print(f\"File '{file_name_new}' has been deleted.\")\n",
    "print(f\"File '{file_name_new}' does not exist.\")"
   ]
  },
  {
   "cell_type": "markdown",
   "id": "fce9ae5b",
   "metadata": {},
   "source": [
    "## Creating A dummy CSV File for below usage"
   ]
  },
  {
   "cell_type": "code",
   "execution_count": 18,
   "id": "82cac7ca",
   "metadata": {},
   "outputs": [
    {
     "name": "stdout",
     "output_type": "stream",
     "text": [
      "Dummy CSV file 'data.csv' has been created with sample content.\n"
     ]
    }
   ],
   "source": [
    "import csv\n",
    "\n",
    "# Define the CSV file name and dummy data\n",
    "filename = \"data.csv\"\n",
    "header = [\"Name\", \"Age\", \"City\"]\n",
    "rows = [\n",
    "    [\"Faizan\", 31, \"Bahawalpur\"],\n",
    "    [\"Aabid\", 28, \"Dera Bakha\"],\n",
    "    [\"Suleman\", 28, \"Lahore\"],\n",
    "    [\"Sikander\", 23, \"Jahania\"],\n",
    "]\n",
    "\n",
    "# Write data to CSV file\n",
    "with open(filename, mode=\"w\", newline=\"\") as file:\n",
    "    writer = csv.writer(file)\n",
    "    writer.writerow(header)  # Write the header\n",
    "    writer.writerows(rows)   # Write multiple rows of data\n",
    "\n",
    "print(f\"Dummy CSV file '{filename}' has been created with sample content.\")\n"
   ]
  },
  {
   "cell_type": "markdown",
   "id": "51c73af5",
   "metadata": {},
   "source": [
    "## 7. File Formats and Conversions"
   ]
  },
  {
   "cell_type": "markdown",
   "id": "4e1040f8",
   "metadata": {},
   "source": [
    "### Working with CSV Files"
   ]
  },
  {
   "cell_type": "markdown",
   "metadata": {},
   "source": [
    "- **Module:** `csv`\n",
    "\n",
    "- **Common Operations:** Reading and writing CSV files.\n"
   ]
  },
  {
   "cell_type": "markdown",
   "id": "f0bce63a",
   "metadata": {},
   "source": [
    "### Working with JSON Files"
   ]
  },
  {
   "cell_type": "markdown",
   "id": "5429439c",
   "metadata": {},
   "source": [
    "- **Module:** `json`\n",
    "\n",
    "- **Common Operations:** Serializing and deserializing JSON data."
   ]
  },
  {
   "cell_type": "code",
   "execution_count": 20,
   "id": "a679010e",
   "metadata": {},
   "outputs": [
    {
     "name": "stdout",
     "output_type": "stream",
     "text": [
      "[{'Name': 'Faizan', 'Age': '31', 'City': 'Bahawalpur'}, {'Name': 'Aabid', 'Age': '28', 'City': 'Dera Bakha'}, {'Name': 'Suleman', 'Age': '28', 'City': 'Lahore'}, {'Name': 'Sikander', 'Age': '23', 'City': 'Jahania'}]\n",
      "CSV data has been converted to JSON format and saved in 'data.json'.\n"
     ]
    }
   ],
   "source": [
    "import csv\n",
    "import json\n",
    "\n",
    "csv_file = \"data.csv\"      # Ensure this file exists with appropriate CSV data.\n",
    "json_file = \"data.json\"\n",
    "\n",
    "# Read CSV data and convert it to a list of dictionaries\n",
    "data = []\n",
    "with open(csv_file, \"r\") as file:\n",
    "    csv_reader = csv.DictReader(file)\n",
    "    for row in csv_reader:\n",
    "        data.append(row)\n",
    "\n",
    "print(data)\n",
    "\n",
    "# Write the data to a JSON file\n",
    "with open(json_file, \"w\") as file:\n",
    "    json.dump(data, file, indent=4)\n",
    "\n",
    "print(f\"CSV data has been converted to JSON format and saved in '{json_file}'.\")\n"
   ]
  },
  {
   "cell_type": "markdown",
   "id": "433503a2",
   "metadata": {},
   "source": [
    "## 8. Error Handling and Exceptions"
   ]
  },
  {
   "cell_type": "markdown",
   "id": "4688c75b",
   "metadata": {},
   "source": [
    "### Handling Common File Errors"
   ]
  },
  {
   "cell_type": "markdown",
   "id": "8a4fd4a3",
   "metadata": {},
   "source": [
    "Common errors include:\n",
    "\n",
    "- **FileNotFoundError:** Raised when trying to access a file that does not exist.\n",
    "\n",
    "- **IOError/OSError:** General input/output errors."
   ]
  },
  {
   "cell_type": "markdown",
   "id": "83d7086e",
   "metadata": {},
   "source": [
    "### Using Try-Except Blocks"
   ]
  },
  {
   "cell_type": "markdown",
   "id": "23eed1b3",
   "metadata": {},
   "source": [
    "Handling exceptions helps your program to run gracefully even when errors occur."
   ]
  },
  {
   "cell_type": "code",
   "execution_count": 21,
   "id": "f30f214a",
   "metadata": {},
   "outputs": [
    {
     "name": "stdout",
     "output_type": "stream",
     "text": [
      "Error: The file 'non_existent_file.txt' was not found.\n"
     ]
    }
   ],
   "source": [
    "# Example: Handling file not found error\n",
    "\n",
    "file_path = \"non_existent_file.txt\"\n",
    "try:\n",
    "    with open(file_path, \"r\") as file:\n",
    "        content = file.read()\n",
    "except FileNotFoundError:\n",
    "    print(f\"Error: The file '{file_path}' was not found.\")\n",
    "except Exception as e:\n",
    "    print(f\"An unexpected error occurred: {e}\")\n"
   ]
  },
  {
   "cell_type": "markdown",
   "metadata": {},
   "source": []
  },
  {
   "cell_type": "markdown",
   "id": "661b1a33",
   "metadata": {},
   "source": []
  },
  {
   "cell_type": "markdown",
   "id": "82b87cf7",
   "metadata": {},
   "source": [
    "# Formatting"
   ]
  },
  {
   "cell_type": "code",
   "execution_count": 3,
   "id": "21539628",
   "metadata": {},
   "outputs": [
    {
     "data": {
      "text/html": [
       "\n",
       "    <style>\n",
       "        body {\n",
       "            background-c olor: #3397a6; #702166 #3397a6 #f2fff2\n",
       "        }\n",
       "        h1 {\n",
       "            text-align: center;\n",
       "            font-weight: bold;\n",
       "            font-size: 36px;\n",
       "            color: #4295F4;\n",
       "            text-decoration: underline;\n",
       "            padding-top: 15px;\n",
       "        }\n",
       "        \n",
       "        h2 {\n",
       "            text-align: left;\n",
       "            font-weight: bold;\n",
       "            font-size: 30px;\n",
       "            color: #4A000A;\n",
       "            text-decoration: underline;\n",
       "            padding-top: 10px;\n",
       "        }\n",
       "        \n",
       "        h3 {\n",
       "            text-align: left;\n",
       "            font-weight: bold;\n",
       "            font-size: 30px;\n",
       "            color: #f0081e;\n",
       "            text-decoration: underline;\n",
       "            padding-top: 5px;\n",
       "        }\n",
       "\n",
       "        \n",
       "        p {\n",
       "            text-align: center;\n",
       "            font-size: 12 px;\n",
       "            color: #0B9923;\n",
       "        }\n",
       "    </style>\n",
       "\n",
       "<h1>Hello</h1>\n",
       "<p>Hello World</p>\n",
       "<h2> Hello</h2>\n",
       "<h3> World </h3>\n"
      ],
      "text/plain": [
       "<IPython.core.display.HTML object>"
      ]
     },
     "execution_count": 3,
     "metadata": {},
     "output_type": "execute_result"
    }
   ],
   "source": [
    "from IPython.core.display import HTML\n",
    "\n",
    "style = \"\"\"\n",
    "    <style>\n",
    "        body {\n",
    "            background-c olor: #3397a6; #702166 #3397a6 #f2fff2\n",
    "        }\n",
    "        h1 {\n",
    "            text-align: center;\n",
    "            font-weight: bold;\n",
    "            font-size: 36px;\n",
    "            color: #4295F4;\n",
    "            text-decoration: underline;\n",
    "            padding-top: 15px;\n",
    "        }\n",
    "        \n",
    "        h2 {\n",
    "            text-align: left;\n",
    "            font-weight: bold;\n",
    "            font-size: 30px;\n",
    "            color: #4A000A;\n",
    "            text-decoration: underline;\n",
    "            padding-top: 10px;\n",
    "        }\n",
    "        \n",
    "        h3 {\n",
    "            text-align: left;\n",
    "            font-weight: bold;\n",
    "            font-size: 30px;\n",
    "            color: #f0081e;\n",
    "            text-decoration: underline;\n",
    "            padding-top: 5px;\n",
    "        }\n",
    "\n",
    "        \n",
    "        p {\n",
    "            text-align: center;\n",
    "            font-size: 12 px;\n",
    "            color: #0B9923;\n",
    "        }\n",
    "    </style>\n",
    "\"\"\"\n",
    "\n",
    "html_content = \"\"\"\n",
    "<h1>Hello</h1>\n",
    "<p>Hello World</p>\n",
    "<h2> Hello</h2>\n",
    "<h3> World </h3>\n",
    "\"\"\"\n",
    "\n",
    "HTML(style + html_content)"
   ]
  },
  {
   "cell_type": "code",
   "execution_count": null,
   "id": "a180014a",
   "metadata": {},
   "outputs": [],
   "source": []
  }
 ],
 "metadata": {
  "kernelspec": {
   "display_name": "Python 3",
   "language": "python",
   "name": "python3"
  },
  "language_info": {
   "codemirror_mode": {
    "name": "ipython",
    "version": 3
   },
   "file_extension": ".py",
   "mimetype": "text/x-python",
   "name": "python",
   "nbconvert_exporter": "python",
   "pygments_lexer": "ipython3",
   "version": "3.12.6"
  }
 },
 "nbformat": 4,
 "nbformat_minor": 5
}
