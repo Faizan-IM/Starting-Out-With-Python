{
 "cells": [
  {
   "cell_type": "markdown",
   "id": "629dba6a",
   "metadata": {},
   "source": [
    "# File Handling"
   ]
  },
  {
   "cell_type": "markdown",
   "id": "617e9d8a",
   "metadata": {},
   "source": [
    "## 1. Introduction to File Handling in Python"
   ]
  },
  {
   "cell_type": "markdown",
   "metadata": {},
   "source": [
    "**Definition:** File handling enables reading/writing data to/from files, crucial for persistent data storage.<br>\n",
    "File handling in Python refers to the process of `reading` from and `writing` to files stored on your system. It is essential for tasks such as `logging, data processing, configuration management, and much more`.<br>\n",
    "File handling in Python allows programs to interact with files on the system, enabling persistent data storage beyond program execution. This is crucial for saving user data, logs, or configurations. Files are primarily categorized into text files (e.g., .txt, .csv) for human-readable content and binary files (e.g., .jpg, .exe) for machine-readable data.<br>\n",
    "File handling refers to the ability to read from and write to files on a storage system. In Python, file handling involves working with the file system to perform operations such as creating, reading, updating, and deleting files. This capability is fundamental to many programming tasks, from saving application settings to processing large datasets."
   ]
  },
  {
   "cell_type": "markdown",
   "id": "c974a0f4",
   "metadata": {},
   "source": [
    "### File Types:"
   ]
  },
  {
   "cell_type": "markdown",
   "id": "7b3f3a8d",
   "metadata": {},
   "source": [
    "- **Text Files:** Human-readable. Files that store data in plain text format (e.g., `.txt`, `.csv`).\n",
    "- **Binary Files:** Store data in machine-readable format. Files that contain data in a binary format (e.g., `.png`, `.exe`)."
   ]
  },
  {
   "cell_type": "markdown",
   "id": "0b253f55",
   "metadata": {},
   "source": [
    "Understanding file handling is crucial because it allows programs to:\n",
    "\n",
    "- Store data permanently beyond program execution\n",
    "\n",
    "- Process data that wouldn't fit entirely in memory\n",
    "\n",
    "- Share information between different applications\n",
    "\n",
    "- Maintain logs for debugging and auditing\n",
    "\n",
    "- Configure application behavior through external files"
   ]
  },
  {
   "cell_type": "markdown",
   "id": "8bdcef0f",
   "metadata": {},
   "source": [
    "## 2. Basic File Operations"
   ]
  },
  {
   "cell_type": "markdown",
   "id": "8f0781b2",
   "metadata": {},
   "source": [
    "### Opening and Closing Files\n",
    "Python provides the `open()` function to open a file and the `close()` method to close it."
   ]
  },
  {
   "cell_type": "markdown",
   "id": "d6f649a0",
   "metadata": {},
   "source": [
    "#### Modes of Operation:"
   ]
  },
  {
   "cell_type": "markdown",
   "id": "2f6b6977",
   "metadata": {},
   "source": [
    "- Read (`'r'`): Opens a file for reading (default mode).\n",
    "\n",
    "- Write (`'w'`): Opens a file for writing (creates a new file or truncates an existing one).\n",
    "\n",
    "- Append (`'a'`): Opens a file for appending data.\n",
    "\n",
    "- Read/Write (`'r+'`): Opens a file for both reading and writing.\n",
    "\n",
    "- Binary (`'b'`): Used with the above modes for binary files (e.g., `'rb'`, `'wb'`)."
   ]
  },
  {
   "cell_type": "markdown",
   "id": "b59ce5d8",
   "metadata": {},
   "source": [
    "```python\n",
    "# Example: Opening files in different modes\n",
    "\n",
    "# Open a text file for reading\n",
    "file_read = open(\"example.txt\", \"r\")\n",
    "print(\"File opened in read mode.\")\n",
    "file_read.close()  # Always close the file after operations\n",
    "\n",
    "# Open a file for writing (this will create a new file or `overwrite` an existing one)\n",
    "file_write = open(\"example_write.txt\", \"w\")\n",
    "file_write.write(\"Hello, World!\\n\")\n",
    "print(\"File written in write mode.\")\n",
    "file_write.close()\n",
    "\n",
    "# Open a file for appending data\n",
    "file_append = open(\"example_write.txt\", \"a\")\n",
    "file_append.write(\"Appending a new line.\\n\")\n",
    "print(\"Data appended to file.\")\n",
    "file_append.close()\n",
    "```"
   ]
  },
  {
   "cell_type": "code",
   "execution_count": 4,
   "id": "f17cfe46",
   "metadata": {},
   "outputs": [
    {
     "name": "stdout",
     "output_type": "stream",
     "text": [
      "File opened in read mode.\n"
     ]
    }
   ],
   "source": [
    "# Open a text file for reading\n",
    "file_read = open(\"example.txt\", \"r\")\n",
    "print(\"File opened in read mode.\")\n",
    "file_read.close()  # Always close the file after operations"
   ]
  },
  {
   "cell_type": "code",
   "execution_count": 6,
   "id": "49523798",
   "metadata": {},
   "outputs": [],
   "source": [
    "# Open in write mode (creates if nonexistent)\n",
    "file = open(\"example_write.txt\", \"w\", encoding='utf-8')\n",
    "file.write(\"Hello Faizan😒!\")\n",
    "file.close()  # Always close to free resources"
   ]
  },
  {
   "cell_type": "markdown",
   "id": "192353c6",
   "metadata": {},
   "source": [
    "## 3. Reading Files"
   ]
  },
  {
   "cell_type": "markdown",
   "id": "84d99e00",
   "metadata": {},
   "source": [
    "### Methods to Read Files"
   ]
  },
  {
   "cell_type": "markdown",
   "id": "32727026",
   "metadata": {},
   "source": [
    "- `read():` Reads the entire file content as a single string.\n",
    "\n",
    "- `readline():` Reads one line from the file.\n",
    "\n",
    "- `readlines():` Reads all the lines and returns them as a list."
   ]
  },
  {
   "cell_type": "markdown",
   "id": "392f58fb",
   "metadata": {},
   "source": [
    "Hands-on Example: Reading a Text File Line by Line\n",
    "\n",
    "```python\n",
    "# Example: Reading a text file line by line\n",
    "\n",
    "# Ensure 'sample.txt' exists with multiple lines of text.\n",
    "with open(\"sample.txt\", \"r\") as file:\n",
    "    lines = file.readlines()  # Read all lines into a list\n",
    "\n",
    "# Display each line\n",
    "for index, line in enumerate(lines, start=1):\n",
    "    print(f\"Line {index}: {line.strip()}\")  # .strip() removes newline characters\n",
    "\n",
    "# You can now use the 'lines' list for further processing.\n",
    "```"
   ]
  },
  {
   "cell_type": "code",
   "execution_count": 7,
   "id": "c0084403",
   "metadata": {},
   "outputs": [
    {
     "name": "stdout",
     "output_type": "stream",
     "text": [
      "['This is an example file for our notebook File Handling. ']\n"
     ]
    }
   ],
   "source": [
    "with open(\"example.txt\", \"r\", encoding='utf-8') as file:\n",
    "    lines = file.readlines()  # Stores lines in a list\n",
    "print(lines)  "
   ]
  },
  {
   "cell_type": "code",
   "execution_count": 8,
   "id": "91c72f8e",
   "metadata": {},
   "outputs": [
    {
     "name": "stdout",
     "output_type": "stream",
     "text": [
      "Line 1: This is an example file for our notebook File Handling.\n"
     ]
    }
   ],
   "source": [
    "for index, line in enumerate(lines, start=1):\n",
    "    print(f\"Line {index}: {line.strip()}\")"
   ]
  },
  {
   "cell_type": "markdown",
   "id": "59d584be",
   "metadata": {},
   "source": [
    "## 4. Writing to Files"
   ]
  },
  {
   "cell_type": "markdown",
   "id": "f8fef506",
   "metadata": {},
   "source": [
    "#### Methods to Write Data"
   ]
  },
  {
   "cell_type": "markdown",
   "id": "8086f5f6",
   "metadata": {},
   "source": [
    "- `write()`: Writes a string to a file.\n",
    "\n",
    "- `writelines()`: Writes a list of strings to a file."
   ]
  },
  {
   "cell_type": "code",
   "execution_count": 11,
   "id": "c05231a9",
   "metadata": {},
   "outputs": [
    {
     "name": "stdout",
     "output_type": "stream",
     "text": [
      "Your input has been saved to 'user_input.txt'.\n"
     ]
    }
   ],
   "source": [
    "# Example: Writing user input to a file\n",
    "\n",
    "user_input = input(\"Enter some text to write to the file: \")\n",
    "\n",
    "with open(\"user_input.txt\", \"w\", encoding='utf-8') as file:\n",
    "    file.write(user_input + \"\\n\")  # Write the input followed by a newline\n",
    "\n",
    "print(\"Your input has been saved to 'user_input.txt'.\")\n"
   ]
  },
  {
   "cell_type": "code",
   "execution_count": 12,
   "id": "f5db3837",
   "metadata": {},
   "outputs": [
    {
     "name": "stdout",
     "output_type": "stream",
     "text": [
      "Your input has been saved to 'user_input.txt'.\n"
     ]
    }
   ],
   "source": [
    "# Example: Writing user input to a file\n",
    "\n",
    "user_input = input(\"Enter some text to write to the file: \")\n",
    "\n",
    "with open(\"user_input1.txt\", \"w\", encoding='utf-8') as file:\n",
    "    file.writelines(user_input + \"\\n\")  # Write the input followed by a newline\n",
    "\n",
    "print(\"Your input has been saved to 'user_input.txt'.\")"
   ]
  },
  {
   "cell_type": "markdown",
   "id": "661b1a33",
   "metadata": {},
   "source": []
  },
  {
   "cell_type": "markdown",
   "id": "82b87cf7",
   "metadata": {},
   "source": [
    "# Formatting"
   ]
  },
  {
   "cell_type": "code",
   "execution_count": 3,
   "id": "21539628",
   "metadata": {},
   "outputs": [
    {
     "data": {
      "text/html": [
       "\n",
       "    <style>\n",
       "        body {\n",
       "            background-c olor: #3397a6; #702166 #3397a6 #f2fff2\n",
       "        }\n",
       "        h1 {\n",
       "            text-align: center;\n",
       "            font-weight: bold;\n",
       "            font-size: 36px;\n",
       "            color: #4295F4;\n",
       "            text-decoration: underline;\n",
       "            padding-top: 15px;\n",
       "        }\n",
       "        \n",
       "        h2 {\n",
       "            text-align: left;\n",
       "            font-weight: bold;\n",
       "            font-size: 30px;\n",
       "            color: #4A000A;\n",
       "            text-decoration: underline;\n",
       "            padding-top: 10px;\n",
       "        }\n",
       "        \n",
       "        h3 {\n",
       "            text-align: left;\n",
       "            font-weight: bold;\n",
       "            font-size: 30px;\n",
       "            color: #f0081e;\n",
       "            text-decoration: underline;\n",
       "            padding-top: 5px;\n",
       "        }\n",
       "\n",
       "        \n",
       "        p {\n",
       "            text-align: center;\n",
       "            font-size: 12 px;\n",
       "            color: #0B9923;\n",
       "        }\n",
       "    </style>\n",
       "\n",
       "<h1>Hello</h1>\n",
       "<p>Hello World</p>\n",
       "<h2> Hello</h2>\n",
       "<h3> World </h3>\n"
      ],
      "text/plain": [
       "<IPython.core.display.HTML object>"
      ]
     },
     "execution_count": 3,
     "metadata": {},
     "output_type": "execute_result"
    }
   ],
   "source": [
    "from IPython.core.display import HTML\n",
    "\n",
    "style = \"\"\"\n",
    "    <style>\n",
    "        body {\n",
    "            background-c olor: #3397a6; #702166 #3397a6 #f2fff2\n",
    "        }\n",
    "        h1 {\n",
    "            text-align: center;\n",
    "            font-weight: bold;\n",
    "            font-size: 36px;\n",
    "            color: #4295F4;\n",
    "            text-decoration: underline;\n",
    "            padding-top: 15px;\n",
    "        }\n",
    "        \n",
    "        h2 {\n",
    "            text-align: left;\n",
    "            font-weight: bold;\n",
    "            font-size: 30px;\n",
    "            color: #4A000A;\n",
    "            text-decoration: underline;\n",
    "            padding-top: 10px;\n",
    "        }\n",
    "        \n",
    "        h3 {\n",
    "            text-align: left;\n",
    "            font-weight: bold;\n",
    "            font-size: 30px;\n",
    "            color: #f0081e;\n",
    "            text-decoration: underline;\n",
    "            padding-top: 5px;\n",
    "        }\n",
    "\n",
    "        \n",
    "        p {\n",
    "            text-align: center;\n",
    "            font-size: 12 px;\n",
    "            color: #0B9923;\n",
    "        }\n",
    "    </style>\n",
    "\"\"\"\n",
    "\n",
    "html_content = \"\"\"\n",
    "<h1>Hello</h1>\n",
    "<p>Hello World</p>\n",
    "<h2> Hello</h2>\n",
    "<h3> World </h3>\n",
    "\"\"\"\n",
    "\n",
    "HTML(style + html_content)"
   ]
  },
  {
   "cell_type": "code",
   "execution_count": null,
   "id": "a180014a",
   "metadata": {},
   "outputs": [],
   "source": []
  }
 ],
 "metadata": {
  "kernelspec": {
   "display_name": "Python 3",
   "language": "python",
   "name": "python3"
  },
  "language_info": {
   "codemirror_mode": {
    "name": "ipython",
    "version": 3
   },
   "file_extension": ".py",
   "mimetype": "text/x-python",
   "name": "python",
   "nbconvert_exporter": "python",
   "pygments_lexer": "ipython3",
   "version": "3.12.6"
  }
 },
 "nbformat": 4,
 "nbformat_minor": 5
}
