{
 "cells": [
  {
   "cell_type": "markdown",
   "metadata": {},
   "source": [
    "# Data Structures"
   ]
  },
  {
   "cell_type": "markdown",
   "metadata": {
    "jp-MarkdownHeadingCollapsed": true
   },
   "source": [
    "## List (Dynamic Array in Python)"
   ]
  },
  {
   "cell_type": "markdown",
   "metadata": {},
   "source": [
    "A list is a data structure in Python that is a `mutable`, or `changeable`, `ordered sequence of elements`. Each element or value that is inside of a list is called an item. Just as `strings are defined as characters between quotes`, lists are defined by having values between `square brackets [ ]`."
   ]
  },
  {
   "cell_type": "markdown",
   "metadata": {},
   "source": [
    "### When to Use Lists?"
   ]
  },
  {
   "cell_type": "markdown",
   "metadata": {},
   "source": [
    "- When you need an ordered collection of items.\n",
    "- When you expect to modify the collection frequently (add, remove, update elements).\n",
    "- When you need to store duplicate values.\n",
    "- When order matters (like maintaining a sequence of tasks or a history of actions)."
   ]
  },
  {
   "cell_type": "markdown",
   "metadata": {},
   "source": [
    "### How to Use Lists?"
   ]
  },
  {
   "cell_type": "markdown",
   "metadata": {},
   "source": [
    "Lists are declared using `[]` (square brackets) and can hold multiple types of data."
   ]
  },
  {
   "cell_type": "code",
   "execution_count": 1,
   "metadata": {},
   "outputs": [],
   "source": [
    "my_list = [10, 20, 30, 40]  # List of integers\n",
    "mixed_list = [1, \"Faizan\", 3.14, [5, 6]]  # List with multiple data types\n"
   ]
  },
  {
   "cell_type": "markdown",
   "metadata": {},
   "source": [
    "### ⚙️ Operations on Lists"
   ]
  },
  {
   "cell_type": "code",
   "execution_count": 2,
   "metadata": {},
   "outputs": [
    {
     "name": "stdout",
     "output_type": "stream",
     "text": [
      "[10, 20, 30, 40, 50] \n",
      "\n",
      "[10, 20, 25, 30, 40, 50] \n",
      "\n",
      "[10, 20, 25, 30, 40] \n",
      "\n",
      "[10, 25, 30, 40] \n",
      "\n",
      "[25, 30, 40]\n"
     ]
    }
   ],
   "source": [
    "# Adding elements\n",
    "my_list.append(50)  # [10, 20, 30, 40, 50]\n",
    "print(my_list, '\\n')\n",
    "\n",
    "my_list.insert(2, 25)  # Inserts 25 at index 2: [10, 20, 25, 30, 40, 50]\n",
    "print(my_list, '\\n')\n",
    "\n",
    "\n",
    "popped_value = my_list.pop()  # Removes last element (50)\n",
    "print(my_list, '\\n')\n",
    "del my_list[1]  # Deletes element at index 1\n",
    "print(my_list, '\\n')\n",
    "# Slicing (Extracting portions of a list)\n",
    "sub_list = my_list[1:4]  # Extracts elements at index 1, 2, and 3\n",
    "print(sub_list)"
   ]
  },
  {
   "attachments": {
    "1400a577-ac5d-4689-a932-6279e8c2902b.png": {
     "image/png": "[encoded data removed]"
    }
   },
   "cell_type": "markdown",
   "metadata": {},
   "source": [
    "🔥 Performance Considerations\n",
    "![image.png](attachment:1400a577-ac5d-4689-a932-6279e8c2902b.png)"
   ]
  },
  {
   "cell_type": "markdown",
   "metadata": {},
   "source": [
    "### ✅ Pros"
   ]
  },
  {
   "cell_type": "markdown",
   "metadata": {},
   "source": [
    "✔ Order is preserved (Sequential access is efficient). <br>\n",
    "✔ Mutable (Can modify the list in place).<br>\n",
    "✔ Supports duplicates.<br>\n",
    "✔ Easy to use and versatile.<br>"
   ]
  },
  {
   "cell_type": "markdown",
   "metadata": {},
   "source": [
    "### ❌ Cons"
   ]
  },
  {
   "cell_type": "markdown",
   "metadata": {},
   "source": [
    "❌ Slower lookup (O(n)) compared to dict or set. <br>\n",
    "❌ Insertion and deletion in the middle are expensive (O(n)). <br>\n",
    "❌ Consumes more memory due to dynamic resizing.<br>"
   ]
  },
  {
   "cell_type": "markdown",
   "metadata": {},
   "source": [
    "---"
   ]
  },
  {
   "cell_type": "markdown",
   "metadata": {},
   "source": [
    "## Dictionary (Hash Table in Python)"
   ]
  },
  {
   "cell_type": "markdown",
   "metadata": {},
   "source": [
    "`Unordered` (as of Python 3.7+, insertion order is preserved). `Mutable` (can be changed). `Keys` must be `unique and immutable` (e.g., strings, numbers)."
   ]
  },
  {
   "cell_type": "markdown",
   "metadata": {},
   "source": [
    "### 📌 When to Use Dictionaries?"
   ]
  },
  {
   "cell_type": "markdown",
   "metadata": {},
   "source": [
    "- When you need key-value mapping.\n",
    "- When you need fast lookups (O(1) complexity).\n",
    "- When order is important (from Python 3.7+, dicts maintain insertion order).\n",
    "- When you need to store structured data like JSON."
   ]
  },
  {
   "cell_type": "markdown",
   "metadata": {},
   "source": [
    "### How to Use Dictionaries?"
   ]
  },
  {
   "cell_type": "markdown",
   "metadata": {},
   "source": [
    "Declared using `{}` (curly braces) with key-value pairs."
   ]
  },
  {
   "cell_type": "code",
   "execution_count": 11,
   "metadata": {},
   "outputs": [
    {
     "name": "stdout",
     "output_type": "stream",
     "text": [
      "{'name': 'Faizan', 'age': 31, 'city': 'Bahawalpur'}\n"
     ]
    }
   ],
   "source": [
    "my_dict = {'name': 'Faizan', 'age': 31, 'city': 'Bahawalpur'}\n",
    "print (my_dict)"
   ]
  },
  {
   "cell_type": "markdown",
   "metadata": {},
   "source": [
    "### ⚙️ Operations on Dictionaries"
   ]
  },
  {
   "cell_type": "code",
   "execution_count": 12,
   "metadata": {},
   "outputs": [
    {
     "name": "stdout",
     "output_type": "stream",
     "text": [
      "{'name': 'Faizan', 'age': 31, 'city': 'Bahawalpur', 'job': 'Engineer'} \n",
      "\n",
      "{'name': 'Faizan', 'age': 32, 'city': 'Bahawalpur', 'job': 'Engineer'} \n",
      "\n",
      "{'name': 'Faizan', 'age': 32, 'job': 'Engineer'} \n",
      "\n",
      "32 \n",
      "\n",
      "{'name': 'Faizan', 'job': 'Engineer'} \n",
      "\n",
      "name: Faizan \n",
      "\n",
      "job: Engineer \n",
      "\n",
      "Name exists in dictionary!\n"
     ]
    }
   ],
   "source": [
    "# Adding & Modifying\n",
    "my_dict['job'] = 'Engineer'  # Adds a new key\n",
    "print (my_dict, '\\n')\n",
    "\n",
    "my_dict['age'] = 32  # Modifies existing value\n",
    "print (my_dict, '\\n')\n",
    "\n",
    "# Deleting elements\n",
    "del my_dict['city']  # Removes the key-value pair\n",
    "print (my_dict, '\\n')\n",
    "\n",
    "age = my_dict.pop('age')  # Removes and returns value\n",
    "print (age, '\\n')\n",
    "\n",
    "print (my_dict, '\\n')\n",
    "# Dictionary Iteration\n",
    "for key, value in my_dict.items():\n",
    "    print(f\"{key}: {value}\", '\\n')\n",
    "\n",
    "# Checking if key exists\n",
    "if 'name' in my_dict:\n",
    "    print(\"Name exists in dictionary!\")\n"
   ]
  },
  {
   "attachments": {
    "4d587238-4bd0-4d02-b4c9-a9faa7251e7f.png": {
     "image/png": "[encoded data removed]"
    }
   },
   "cell_type": "markdown",
   "metadata": {},
   "source": [
    "### Performance Considerations\n",
    "![image.png](attachment:4d587238-4bd0-4d02-b4c9-a9faa7251e7f.png)"
   ]
  },
  {
   "cell_type": "markdown",
   "metadata": {},
   "source": [
    "###  ✅ Pros"
   ]
  },
  {
   "cell_type": "markdown",
   "metadata": {},
   "source": [
    "✔ Fast key-based access (O(1) average lookup).<br>\n",
    "✔ Maintains order (Python 3.7+).<br>\n",
    "✔ Keys are unique and immutable (string, int, tuple, etc.).<br>\n"
   ]
  },
  {
   "cell_type": "markdown",
   "metadata": {},
   "source": [
    "### ❌ Cons"
   ]
  },
  {
   "cell_type": "markdown",
   "metadata": {},
   "source": [
    "\n",
    "❌ Consumes more memory due to hashing overhead. <br>\n",
    "❌ Keys must be immutable types.<br>\n",
    "❌ Not ideal for ordered sequences (Lists work better for that). <br>"
   ]
  },
  {
   "cell_type": "markdown",
   "metadata": {},
   "source": [
    "### Hashing | Understanding Hashing in Python Dictionaries (A Deep Dive)"
   ]
  },
  {
   "cell_type": "markdown",
   "metadata": {},
   "source": [
    "Hashing is a process of mapping data to a fixed-size value (`hash`) using a hash function. In Python dictionaries (`dict`), hashing is used to `enable fast lookups` (O(1) average complexity) by `transforming keys` into a `hash value`, which determines where the key-value pair is stored in memory.\n",
    "\n",
    "Dictionaries in Python use a hash table under the hood, which relies on `hashing to allow rapid access, insertion, and deletion.`"
   ]
  },
  {
   "cell_type": "markdown",
   "metadata": {},
   "source": [
    "### How Does a Python Dictionary Work Internally?"
   ]
  },
  {
   "cell_type": "markdown",
   "metadata": {},
   "source": [
    "A dictionary (`dict`) is implemented as a hash table, which is an **array of fixed size** (`buckets`) where key-value pairs are stored. The process works as follows:\n",
    "\n",
    "1) **Compute the Hash Value**: <br>\n",
    "    - When a key is inserted, Python applies a hash function to the key to compute a unique numerical hash value.\n",
    "    - This value determines where in memory the key-value pair is stored.\n",
    "2) **Index Calculation** (Bucket Selection):\n",
    "    - The hash value is used to determine an index in the hash table using the modulo operation:\n",
    "        - `index = hash_value % len(buckets)`\n",
    "        - $index = hash(key)    mod N$  -> where `N` is the number of available `buckets`. \n",
    "3) **Storing the Key-Value Pair**:\n",
    "    - **The key-value pair is stored at the computed index in the hash table.**\n",
    "    - If the calculated index is empty, the key-value pair is stored at that index.\n",
    "    - If the index is already occupied by another key-value pair, Python uses a technique called **chaining** (or **chaining collision resolution**)\n",
    "    - In chaining, each bucket is a linked list of key-value pairs.\n",
    "    - When a collision occurs, the new key-value pair is appended to the linked list at the corresponding index.\n"
   ]
  },
  {
   "cell_type": "markdown",
   "metadata": {},
   "source": []
  },
  {
   "cell_type": "markdown",
   "metadata": {},
   "source": []
  },
  {
   "cell_type": "markdown",
   "metadata": {},
   "source": []
  },
  {
   "cell_type": "markdown",
   "metadata": {},
   "source": [
    "---"
   ]
  },
  {
   "cell_type": "markdown",
   "metadata": {},
   "source": []
  },
  {
   "cell_type": "markdown",
   "metadata": {},
   "source": []
  },
  {
   "cell_type": "code",
   "execution_count": 1,
   "metadata": {},
   "outputs": [
    {
     "data": {
      "text/html": [
       "\n",
       "    <style>\n",
       "        body {\n",
       "            background-color: #f2fff2;\n",
       "        }\n",
       "        h1 {\n",
       "            text-align: center;\n",
       "            font-weight: bold;\n",
       "            font-size: 36px;\n",
       "            color: #4295F4;\n",
       "            text-decoration: underline;\n",
       "            padding-top: 15px;\n",
       "        }\n",
       "        \n",
       "        h2 {\n",
       "            text-align: left;\n",
       "            font-weight: bold;\n",
       "            font-size: 30px;\n",
       "            color: #4A000A;\n",
       "            text-decoration: underline;\n",
       "            padding-top: 10px;\n",
       "        }\n",
       "        \n",
       "        h3 {\n",
       "            text-align: left;\n",
       "            font-weight: bold;\n",
       "            font-size: 30px;\n",
       "            color: #f0081e;\n",
       "            text-decoration: underline;\n",
       "            padding-top: 5px;\n",
       "        }\n",
       "\n",
       "        \n",
       "        p {\n",
       "            text-align: center;\n",
       "            font-size: 12 px;\n",
       "            color: #0B9923;\n",
       "        }\n",
       "    </style>\n",
       "\n",
       "<h1>Hello</h1>\n",
       "<p>Hello World</p>\n",
       "<h2> Hello</h2>\n",
       "<h3> World </h3>\n"
      ],
      "text/plain": [
       "<IPython.core.display.HTML object>"
      ]
     },
     "execution_count": 1,
     "metadata": {},
     "output_type": "execute_result"
    }
   ],
   "source": [
    "from IPython.core.display import HTML\n",
    "\n",
    "style = \"\"\"\n",
    "    <style>\n",
    "        body {\n",
    "            background-color: #f2fff2;\n",
    "        }\n",
    "        h1 {\n",
    "            text-align: center;\n",
    "            font-weight: bold;\n",
    "            font-size: 36px;\n",
    "            color: #4295F4;\n",
    "            text-decoration: underline;\n",
    "            padding-top: 15px;\n",
    "        }\n",
    "        \n",
    "        h2 {\n",
    "            text-align: left;\n",
    "            font-weight: bold;\n",
    "            font-size: 30px;\n",
    "            color: #4A000A;\n",
    "            text-decoration: underline;\n",
    "            padding-top: 10px;\n",
    "        }\n",
    "        \n",
    "        h3 {\n",
    "            text-align: left;\n",
    "            font-weight: bold;\n",
    "            font-size: 30px;\n",
    "            color: #f0081e;\n",
    "            text-decoration: underline;\n",
    "            padding-top: 5px;\n",
    "        }\n",
    "\n",
    "        \n",
    "        p {\n",
    "            text-align: center;\n",
    "            font-size: 12 px;\n",
    "            color: #0B9923;\n",
    "        }\n",
    "    </style>\n",
    "\"\"\"\n",
    "\n",
    "html_content = \"\"\"\n",
    "<h1>Hello</h1>\n",
    "<p>Hello World</p>\n",
    "<h2> Hello</h2>\n",
    "<h3> World </h3>\n",
    "\"\"\"\n",
    "\n",
    "HTML(style + html_content)"
   ]
  },
  {
   "cell_type": "markdown",
   "metadata": {},
   "source": []
  },
  {
   "cell_type": "markdown",
   "metadata": {},
   "source": []
  }
 ],
 "metadata": {
  "kernelspec": {
   "display_name": "Python 3 (ipykernel)",
   "language": "python",
   "name": "python3"
  },
  "language_info": {
   "codemirror_mode": {
    "name": "ipython",
    "version": 3
   },
   "file_extension": ".py",
   "mimetype": "text/x-python",
   "name": "python",
   "nbconvert_exporter": "python",
   "pygments_lexer": "ipython3",
   "version": "3.12.6"
  }
 },
 "nbformat": 4,
 "nbformat_minor": 4
}
