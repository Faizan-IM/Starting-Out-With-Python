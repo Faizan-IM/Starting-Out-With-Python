{
 "cells": [
  {
   "cell_type": "markdown",
   "metadata": {},
   "source": [
    "# `For` Loops"
   ]
  },
  {
   "cell_type": "markdown",
   "metadata": {},
   "source": [
    "## What is a for Loop?"
   ]
  },
  {
   "cell_type": "markdown",
   "metadata": {},
   "source": [
    "A `for` loop in Python is used to iterate over a sequence (such as a list, tuple, dictionary, string, or range) or any other iterable object. It allows you to execute a block of code repeatedly for each item in the sequence."
   ]
  },
  {
   "cell_type": "markdown",
   "metadata": {},
   "source": [
    "### Basic Syntax\n",
    "\n",
    "<div class=\"alert alert-block alert-info\">\n",
    "> for variable in iterable: <br>\n",
    "    >          # code to be executed\n",
    "</div>\n",
    "\n",
    "- `variable`: A temporary variable that takes the value of each item in the iterable during each iteration. <br>\n",
    "- `iterable`: The collection of items over which the loop iterates. <br>\n",
    "- `Indentation`: Python uses indentation to define the block of code inside the loop."
   ]
  },
  {
   "cell_type": "markdown",
   "metadata": {},
   "source": [
    "### Basic Example"
   ]
  },
  {
   "cell_type": "code",
   "execution_count": 1,
   "metadata": {},
   "outputs": [
    {
     "name": "stdout",
     "output_type": "stream",
     "text": [
      "1\n",
      "2\n",
      "3\n",
      "4\n",
      "5\n"
     ]
    }
   ],
   "source": [
    "numbers = [1, 2, 3, 4, 5]\n",
    "for num in numbers:\n",
    "    print(num)"
   ]
  },
  {
   "cell_type": "markdown",
   "metadata": {},
   "source": [
    "`numbers` is the iterable (a list). <br>\n",
    "`num` is the variable that holds the current item in the list during each iteration. <br>\n",
    "The `print(num)` statement executes once for each item in the list."
   ]
  },
  {
   "cell_type": "markdown",
   "metadata": {},
   "source": [
    "### Iterating over a list\n",
    "Suppose you have a list of students' names, and you want to print each name."
   ]
  },
  {
   "cell_type": "code",
   "execution_count": 22,
   "metadata": {},
   "outputs": [
    {
     "name": "stdout",
     "output_type": "stream",
     "text": [
      "Faizan\n",
      "Aabid\n",
      "Haleema\n",
      "Hassan\n"
     ]
    }
   ],
   "source": [
    "students = [\"Faizan\", \"Aabid\", \"Haleema\", \"Hassan\"]\n",
    "\n",
    "for name in students:\n",
    "    print(name)"
   ]
  },
  {
   "cell_type": "markdown",
   "metadata": {},
   "source": [
    "### Real-World Example: Calculating Total Marks\n",
    "You have a list of marks for a student, and you want to calculate the total."
   ]
  },
  {
   "cell_type": "code",
   "execution_count": 23,
   "metadata": {},
   "outputs": [
    {
     "name": "stdout",
     "output_type": "stream",
     "text": [
      "Total Marks: 433\n"
     ]
    }
   ],
   "source": [
    "marks = [85, 90, 78, 92, 88]\n",
    "total = 0\n",
    "\n",
    "for mark in marks:\n",
    "    total += mark\n",
    "\n",
    "print(f\"Total Marks: {total}\")"
   ]
  },
  {
   "cell_type": "markdown",
   "metadata": {},
   "source": [
    "Let's say we want to calculate the average of marks above. We will use the folowing formula:"
   ]
  },
  {
   "cell_type": "code",
   "execution_count": 24,
   "metadata": {},
   "outputs": [
    {
     "name": "stdout",
     "output_type": "stream",
     "text": [
      "Average Marks: 86.6\n"
     ]
    }
   ],
   "source": [
    "average_marks = total/len(marks)\n",
    "print(f\"Average Marks: {average_marks}\")\n"
   ]
  },
  {
   "cell_type": "markdown",
   "metadata": {},
   "source": [
    "---"
   ]
  },
  {
   "cell_type": "markdown",
   "metadata": {
    "jp-MarkdownHeadingCollapsed": true
   },
   "source": [
    "## Using `range()` Function"
   ]
  },
  {
   "cell_type": "markdown",
   "metadata": {},
   "source": [
    "The range() function is commonly used with for loops to generate a sequence of numbers. Its syntax is:\n",
    "\n",
    "<div class=\"alert alert-block alert-info\">\n",
    "> range(start, stop, step)\n",
    "</div>\n",
    "\n",
    "`start`: Starting value (optional, default is 0).<br>\n",
    "`stop`: Ending value (exclusive). <br>\n",
    "`step`: Increment (optional, default is 1).\n"
   ]
  },
  {
   "cell_type": "code",
   "execution_count": 2,
   "metadata": {},
   "outputs": [
    {
     "name": "stdout",
     "output_type": "stream",
     "text": [
      "0\n",
      "1\n",
      "2\n",
      "3\n",
      "4\n"
     ]
    }
   ],
   "source": [
    "for i in range(5):  # Generates numbers from 0 to 4\n",
    "    print(i)"
   ]
  },
  {
   "cell_type": "markdown",
   "metadata": {},
   "source": [
    "You can also specify a start, stop, and step:"
   ]
  },
  {
   "cell_type": "code",
   "execution_count": 3,
   "metadata": {},
   "outputs": [
    {
     "name": "stdout",
     "output_type": "stream",
     "text": [
      "2\n",
      "4\n",
      "6\n",
      "8\n"
     ]
    }
   ],
   "source": [
    "for i in range(2, 10, 2):  # Generates even numbers from 2 to 8\n",
    "    print(i)"
   ]
  },
  {
   "cell_type": "markdown",
   "metadata": {},
   "source": [
    "### Real-World Example: Generating Multiples of 6\n",
    "\n",
    "You want to generate all multiples of 6 up to 60.\n",
    "\n"
   ]
  },
  {
   "cell_type": "code",
   "execution_count": 25,
   "metadata": {},
   "outputs": [
    {
     "name": "stdout",
     "output_type": "stream",
     "text": [
      "[6, 12, 18, 24, 30, 36, 42, 48, 54, 60]\n"
     ]
    }
   ],
   "source": [
    "multiples_of_6 = []\n",
    "\n",
    "for i in range(6, 61, 6):\n",
    "    multiples_of_6.append(i)\n",
    "\n",
    "print(multiples_of_6)"
   ]
  },
  {
   "cell_type": "code",
   "execution_count": 1,
   "metadata": {},
   "outputs": [
    {
     "name": "stdout",
     "output_type": "stream",
     "text": [
      "6\n",
      "12\n",
      "18\n",
      "24\n",
      "30\n",
      "36\n",
      "42\n",
      "48\n",
      "54\n",
      "60\n"
     ]
    }
   ],
   "source": [
    "for i in range(6, 61, 6):\n",
    "    print(i)\n"
   ]
  },
  {
   "cell_type": "markdown",
   "metadata": {
    "jp-MarkdownHeadingCollapsed": true
   },
   "source": [
    "## Append Function\n",
    "\n"
   ]
  },
  {
   "cell_type": "markdown",
   "metadata": {},
   "source": [
    "In Python, the `.append()` function is a method used with `lists` to add an element to the end of the list.\n",
    "\n",
    "**Syntax** \n",
    "\n",
    "<div class=\"alert alert-block alert-info\">\n",
    "list.append(element)\n",
    "</div>"
   ]
  },
  {
   "cell_type": "markdown",
   "metadata": {},
   "source": [
    "- `list` is the existing `list`.\n",
    "- `element` is the item you want to `add`.\n",
    "\n",
    "### Example"
   ]
  },
  {
   "cell_type": "code",
   "execution_count": 26,
   "metadata": {},
   "outputs": [
    {
     "name": "stdout",
     "output_type": "stream",
     "text": [
      "[1, 2, 3, 4]\n"
     ]
    }
   ],
   "source": [
    "numbers = [1, 2, 3]\n",
    "numbers.append(4)\n",
    "print(numbers)"
   ]
  },
  {
   "cell_type": "markdown",
   "metadata": {},
   "source": [
    "### Key Points:\n",
    "- `append()` modifies the original list in place.\n",
    "- It adds `only one` element at a time.\n",
    "- If you want to `add multiple` elements, use `extend()` or `+=`."
   ]
  },
  {
   "cell_type": "markdown",
   "metadata": {},
   "source": [
    "---"
   ]
  },
  {
   "cell_type": "markdown",
   "metadata": {},
   "source": [
    "## Iterating Over Strings\n",
    "Strings are iterable objects in Python, so you can use a `for` loop to iterate over each character in a string:"
   ]
  },
  {
   "cell_type": "code",
   "execution_count": 5,
   "metadata": {},
   "outputs": [
    {
     "name": "stdout",
     "output_type": "stream",
     "text": [
      "F\n",
      "a\n",
      "i\n",
      "z\n",
      "a\n",
      "n\n"
     ]
    }
   ],
   "source": [
    "text = \"Faizan\"\n",
    "\n",
    "for char in text:\n",
    "    print(char)"
   ]
  },
  {
   "cell_type": "markdown",
   "metadata": {},
   "source": [
    "### Example: Counting Vowels in a String\n",
    "    "
   ]
  },
  {
   "cell_type": "code",
   "execution_count": 29,
   "metadata": {},
   "outputs": [
    {
     "name": "stdout",
     "output_type": "stream",
     "text": [
      "Number of vowels: 11\n"
     ]
    }
   ],
   "source": [
    "text = \"Muhammad Faizan Iqbal Masood\" \n",
    "vowel_count = 0\n",
    "\n",
    "for char in text:\n",
    "    if char.lower() in \"aeiou\":\n",
    "        vowel_count += 1\n",
    "    # if char in \"aeiou\":\n",
    "    #     vowel_count += 1\n",
    "\n",
    "print(f\"Number of vowels: {vowel_count}\")"
   ]
  },
  {
   "cell_type": "markdown",
   "metadata": {},
   "source": [
    "### Example: Reversing a String"
   ]
  },
  {
   "cell_type": "code",
   "execution_count": 33,
   "metadata": {},
   "outputs": [
    {
     "name": "stdout",
     "output_type": "stream",
     "text": [
      "labqI naziaF\n"
     ]
    }
   ],
   "source": [
    "text = \"Faizan Iqbal\"\n",
    "reversed_text = \"\"\n",
    "\n",
    "for char in text:\n",
    "    # reversed_text = char.lower() + reversed_text.upper()\n",
    "    reversed_text = char + reversed_text\n",
    "\n",
    "print(reversed_text)"
   ]
  },
  {
   "cell_type": "code",
   "execution_count": 2,
   "metadata": {},
   "outputs": [
    {
     "name": "stdout",
     "output_type": "stream",
     "text": [
      "lABQI NAZIAF\n"
     ]
    }
   ],
   "source": [
    "text = \"Faizan Iqbal\"\n",
    "reversed_text = \"\"\n",
    "\n",
    "for char in text:\n",
    "     reversed_text = char.lower() + reversed_text.upper()\n",
    "    #reversed_text = char + reversed_text\n",
    "\n",
    "print(reversed_text)"
   ]
  },
  {
   "cell_type": "markdown",
   "metadata": {},
   "source": [
    "### Reverse only `one part of string` leaving the other intact as it is\n",
    "\n",
    "- for example: \"Muuhammad Faizan Iqbal Masood\"\n",
    "- reverse `Faizan`"
   ]
  },
  {
   "cell_type": "code",
   "execution_count": 40,
   "metadata": {},
   "outputs": [
    {
     "name": "stdout",
     "output_type": "stream",
     "text": [
      "Muhmmad naziaF Iqbal Masood\n"
     ]
    }
   ],
   "source": [
    "NAME_TO_REVERSE = \"Muhmmad Faizan Iqbal Masood\"\n",
    "words_new = NAME_TO_REVERSE.split()\n",
    "words_in_list = []\n",
    "for word in words_new:\n",
    "    if word.lower() == \"faizan\":\n",
    "        words_in_list.append(word[::-1])\n",
    "    else:\n",
    "        words_in_list.append(word)\n",
    "new_name = \" \".join(words_in_list)\n",
    "print(new_name)\n"
   ]
  },
  {
   "cell_type": "markdown",
   "metadata": {},
   "source": [
    "#### Explanation:\n",
    " - `split()`: Splits the sentence into a list of words.\n",
    " - `for loop`: Iterates through each word.\n",
    " - If the word is `\"Faizan\"` (case-insensitive), `{words_in_list.append(word[::-1])}` it reverses it.\n",
    " - Otherwise, it keeps the word unchanged.\n",
    " - Stores results in `word_in_list` list.\n",
    " - `join():` Combines the words back into a single string. `{\" \".join(words_in_list)}`"
   ]
  },
  {
   "cell_type": "markdown",
   "metadata": {},
   "source": [
    "### Example: Write a program to count the number of `consonants` in a string using a `for` loop."
   ]
  },
  {
   "cell_type": "code",
   "execution_count": 35,
   "metadata": {},
   "outputs": [
    {
     "name": "stdout",
     "output_type": "stream",
     "text": [
      "Number of consonants: 28\n"
     ]
    }
   ],
   "source": [
    "my_name = \"Muhammad Faizan Iqbal Masood\" \n",
    "consonant_count = 0\n",
    "\n",
    "for char in my_name:\n",
    "    # if char.lower() is not \"aeiou\": **WILL LEAD TO ->** SyntaxWarning: \"is not\" with 'str' literal. Did you mean \"!=\"?\n",
    "    if char.lower() != \"aeiou\":\n",
    "        consonant_count += 1\n",
    "\n",
    "print(f\"Number of consonants: {consonant_count}\")"
   ]
  },
  {
   "cell_type": "markdown",
   "metadata": {},
   "source": [
    "### Write a program to replace the vowels with (*) in a string using a for loop."
   ]
  },
  {
   "cell_type": "code",
   "execution_count": 37,
   "metadata": {},
   "outputs": [
    {
     "name": "stdout",
     "output_type": "stream",
     "text": [
      "M*h*mm*d F**z*n *qb*l M*s**d\n"
     ]
    }
   ],
   "source": [
    "# my_name = \"Muhammad Faizan Iqbal Masood\" is already defined above\n",
    "\n",
    "vowels = \"aeiouAEIOU\"\n",
    "name_vowels_replaced_with_asterisk = \"\"\n",
    "for alphabet in my_name:\n",
    "    if alphabet in vowels:\n",
    "        name_vowels_replaced_with_asterisk += \"*\"\n",
    "    else:\n",
    "        name_vowels_replaced_with_asterisk += alphabet\n",
    "print(name_vowels_replaced_with_asterisk)"
   ]
  },
  {
   "cell_type": "markdown",
   "metadata": {},
   "source": [
    "---"
   ]
  },
  {
   "cell_type": "markdown",
   "metadata": {
    "jp-MarkdownHeadingCollapsed": true
   },
   "source": [
    "## Iterating Over Dictionaries\n",
    "Dictionaries are key-value pairs, and you can iterate over their keys, values, or both using methods like `.keys()`, `.values()`, and `.items()`."
   ]
  },
  {
   "cell_type": "code",
   "execution_count": 15,
   "metadata": {},
   "outputs": [
    {
     "name": "stdout",
     "output_type": "stream",
     "text": [
      "name \n",
      "\n",
      "age \n",
      "\n",
      "city \n",
      "\n",
      "Faizan\n",
      "31\n",
      "Bahawalpur\n",
      "\n",
      "\n",
      "name: Faizan\n",
      "age: 31\n",
      "city: Bahawalpur\n"
     ]
    }
   ],
   "source": [
    "person = {\"name\": \"Faizan\", \"age\": 31, \"city\": \"Bahawalpur\"}\n",
    "\n",
    "# Iterating over keys\n",
    "for key in person.keys():\n",
    "    print(key, \"\\n\")\n",
    "# Iterating over values\n",
    "for value in person.values():\n",
    "    print(value)\n",
    "print(\"\\n\")\n",
    "# Iterating over key-value pairs\n",
    "for key, value in person.items():\n",
    "    print(f\"{key}: {value}\")"
   ]
  },
  {
   "cell_type": "markdown",
   "metadata": {},
   "source": [
    "---"
   ]
  },
  {
   "cell_type": "markdown",
   "metadata": {},
   "source": [
    "## Nested `for` Loops"
   ]
  },
  {
   "cell_type": "markdown",
   "metadata": {},
   "source": [
    "A nested `for` loop is when one `for` loop is placed inside another. This is useful when you need to work with multi-dimensional data structures like lists of lists or grids.\n",
    "\n",
    "### Example: Printing a Multiplication Table"
   ]
  },
  {
   "cell_type": "code",
   "execution_count": 18,
   "metadata": {},
   "outputs": [
    {
     "name": "stdout",
     "output_type": "stream",
     "text": [
      "1 x 1 = 1\t1 x 2 = 2\t1 x 3 = 3\t1 x 4 = 4\t1 x 5 = 5\t\n",
      "2 x 1 = 2\t2 x 2 = 4\t2 x 3 = 6\t2 x 4 = 8\t2 x 5 = 10\t\n",
      "3 x 1 = 3\t3 x 2 = 6\t3 x 3 = 9\t3 x 4 = 12\t3 x 5 = 15\t\n",
      "4 x 1 = 4\t4 x 2 = 8\t4 x 3 = 12\t4 x 4 = 16\t4 x 5 = 20\t\n",
      "5 x 1 = 5\t5 x 2 = 10\t5 x 3 = 15\t5 x 4 = 20\t5 x 5 = 25\t\n"
     ]
    }
   ],
   "source": [
    "for i in range(1, 6):  # Outer loop\n",
    "    for j in range(1, 6):  # Inner loop\n",
    "        print(f\"{i} x {j} = {i * j}\",end=\"\\t\" ) #\\t means tab after every iteration\n",
    "    print()  # Move to the next line after each row"
   ]
  },
  {
   "cell_type": "markdown",
   "metadata": {},
   "source": [
    "### Explanation:\n",
    "The outer loop (`i`) runs `5` times (from `1 to 5`). <br>\n",
    "For each iteration of the outer loop, the inner loop (`j`) runs 5 times (from `1 to 5`).<br>\n",
    "The `end=\"\\t\"` ensures that the output is printed on the same line with `tab` spacing.<br>\n",
    "The `print()` at the end of the outer loop moves to the next line after completing one row."
   ]
  },
  {
   "cell_type": "markdown",
   "metadata": {},
   "source": [
    "---"
   ]
  },
  {
   "cell_type": "markdown",
   "metadata": {
    "jp-MarkdownHeadingCollapsed": true
   },
   "source": [
    "## `Break` and `Continue` in `for` Loops"
   ]
  },
  {
   "cell_type": "markdown",
   "metadata": {},
   "source": [
    "<div class=\"alert alert-block alert-info\">\n",
    "break\n",
    "</div>\n",
    "\n",
    "The `break` statement exits the loop prematurely when a certain condition is met.\n",
    "\n",
    "### Example:"
   ]
  },
  {
   "cell_type": "code",
   "execution_count": 19,
   "metadata": {},
   "outputs": [
    {
     "name": "stdout",
     "output_type": "stream",
     "text": [
      "0\n",
      "1\n",
      "2\n",
      "3\n",
      "4\n"
     ]
    }
   ],
   "source": [
    "for i in range(10):\n",
    "    if i == 5:\n",
    "        break\n",
    "    print(i)"
   ]
  },
  {
   "cell_type": "markdown",
   "metadata": {},
   "source": [
    "<div class=\"alert alert-block alert-info\">\n",
    "continue\n",
    "</div>\n",
    "\n",
    "The `continue` statement skips the rest of the code inside the loop for the current iteration and moves to the next iteration.\n",
    "\n",
    "### Example"
   ]
  },
  {
   "cell_type": "code",
   "execution_count": 20,
   "metadata": {},
   "outputs": [
    {
     "name": "stdout",
     "output_type": "stream",
     "text": [
      "1\n",
      "3\n",
      "5\n",
      "7\n",
      "9\n"
     ]
    }
   ],
   "source": [
    "for i in range(10):\n",
    "    if i % 2 == 0:\n",
    "        continue\n",
    "    print(i)"
   ]
  },
  {
   "cell_type": "markdown",
   "metadata": {},
   "source": [
    "---"
   ]
  },
  {
   "cell_type": "markdown",
   "metadata": {},
   "source": [
    "## Else Clause in for Loops\n"
   ]
  },
  {
   "cell_type": "markdown",
   "metadata": {},
   "source": [
    "Python allows an optional `else` clause with a `for` loop. The `else` block executes after the loop completes unless a `break` statement is encountered.\n",
    "\n",
    "### Example"
   ]
  },
  {
   "cell_type": "code",
   "execution_count": 21,
   "metadata": {},
   "outputs": [
    {
     "name": "stdout",
     "output_type": "stream",
     "text": [
      "0\n",
      "1\n",
      "2\n",
      "3\n",
      "4\n",
      "Loop completed successfully.\n",
      "\n",
      "\n",
      "F\n",
      "a\n",
      "i\n",
      "\n",
      "\n",
      "F\n",
      "a\n",
      "i\n",
      "a\n",
      "n\n",
      "\n",
      "\n",
      "F\n",
      "a\n",
      "i\n",
      "z\n",
      "a\n",
      "n\n",
      "String has been printed successfully.\n"
     ]
    }
   ],
   "source": [
    "for i in range(5):\n",
    "    print(i)\n",
    "else:\n",
    "    print(\"Loop completed successfully.\")\n",
    "print(\"\\n\")\n",
    "\n",
    "for char in \"Faizan\":\n",
    "    if char == \"z\":\n",
    "        break\n",
    "    print(char)\n",
    "print(\"\\n\")\n",
    "\n",
    "for char in \"Faizan\":\n",
    "    if char == \"z\":\n",
    "        continue\n",
    "    print(char)\n",
    "print(\"\\n\")\n",
    "\n",
    "for char in \"Faizan\":\n",
    "    print(char)\n",
    "else:\n",
    "    print(\"String has been printed successfully.\")\n"
   ]
  },
  {
   "cell_type": "markdown",
   "metadata": {},
   "source": [
    "## Enumerate"
   ]
  },
  {
   "cell_type": "markdown",
   "metadata": {},
   "source": [
    "Understanding enumerate in **for** loops in Python"
   ]
  },
  {
   "cell_type": "markdown",
   "metadata": {},
   "source": [
    "In Python, the `enumerate()` function is used in loops to get both the `index` and the `value` of an iterable at the same time. This is particularly useful when you need to keep track of the position of elements while iterating over a `list, tuple, or string`."
   ]
  },
  {
   "cell_type": "markdown",
   "metadata": {},
   "source": [
    "```python\n",
    "enumerate(iterable, start=0)\n"
   ]
  },
  {
   "cell_type": "markdown",
   "metadata": {},
   "source": [
    "- `iterable`: The sequence (like a list, tuple, or string) that we want to `loop over`.\n",
    "- `start`: (Optional) The starting index (default is 0)."
   ]
  },
  {
   "cell_type": "markdown",
   "metadata": {},
   "source": [
    "### Example Without enumerate\n",
    "Without enumerate, we usually use the `range(len(iterable))` method to get the index:"
   ]
  },
  {
   "cell_type": "code",
   "execution_count": 2,
   "metadata": {},
   "outputs": [
    {
     "name": "stdout",
     "output_type": "stream",
     "text": [
      "Index 0 -> Value apple\n",
      "Index 1 -> Value banana\n",
      "Index 2 -> Value cherry\n"
     ]
    }
   ],
   "source": [
    "fruits = [\"apple\", \"banana\", \"cherry\"]\n",
    "\n",
    "for i in range(len(fruits)):\n",
    "    print(f\"Index {i} -> Value {fruits[i]}\")\n"
   ]
  },
  {
   "cell_type": "markdown",
   "metadata": {},
   "source": [
    "### Example With enumerate\n",
    "Using `enumerate`, we can directly get the index and value:"
   ]
  },
  {
   "cell_type": "code",
   "execution_count": 20,
   "metadata": {},
   "outputs": [
    {
     "name": "stdout",
     "output_type": "stream",
     "text": [
      "Index 100 -> Value apple \n",
      "Index 101 -> Value banana \n",
      "Index 102 -> Value cherry \n"
     ]
    }
   ],
   "source": [
    "# for index, fruit in enumerate(fruits, start = 2):\n",
    "#     print(f\"Index {index} -> Value {fruit}\")\n",
    "for index, fruit in enumerate(fruits):\n",
    "    print(f\"Index {index} -> Value {fruit} \")\n"
   ]
  },
  {
   "cell_type": "code",
   "execution_count": 22,
   "metadata": {},
   "outputs": [],
   "source": [
    "# help(enumerate)"
   ]
  },
  {
   "cell_type": "markdown",
   "metadata": {},
   "source": [
    "### Dynamic Function Using enumerate\n",
    "To demonstrate a dynamic use case, let’s create a function that takes a list and returns a dictionary where each key is the index and the value is the corresponding item."
   ]
  },
  {
   "cell_type": "code",
   "execution_count": 34,
   "metadata": {},
   "outputs": [
    {
     "name": "stdout",
     "output_type": "stream",
     "text": [
      "{'Java', 'C++', 'Python', 'JavaScript'} <class 'set'>\n"
     ]
    }
   ],
   "source": [
    "def enumerate_to_dict(iterable, start=0):\n",
    "    \"\"\"\n",
    "    This function takes an iterable and returns a dictionary \n",
    "    with index-value pairs using enumerate.\n",
    "    \"\"\"\n",
    "    # return {index: value for index, value in enumerate(iterable, start)}\n",
    "    # return {index for index, value in enumerate(iterable, start)}\n",
    "    return {value for index, value in enumerate(iterable, start)}\n",
    "# Example Usage\n",
    "items = [\"Python\", \"Java\", \"C++\", \"JavaScript\" \"C++\"]\n",
    "result = enumerate_to_dict(items, start=1)\n",
    "print(result, type(result))\n"
   ]
  },
  {
   "cell_type": "markdown",
   "metadata": {},
   "source": [
    "### Using enumerate with Nested Loops and Different Data Structures\n",
    "Now, let's explore `nested loops` and different data structures using enumerate."
   ]
  },
  {
   "cell_type": "markdown",
   "metadata": {},
   "source": [
    "#### Example 1: Enumerate with a Nested List (2D List)\n",
    "When dealing with `nested lists (2D lists)`, `enumerate()` can help keep track of both rows and columns."
   ]
  },
  {
   "cell_type": "code",
   "execution_count": 1,
   "metadata": {},
   "outputs": [
    {
     "name": "stdout",
     "output_type": "stream",
     "text": [
      "Row 0, Column 0 -> Value 10\n",
      "Row 0, Column 1 -> Value 20\n",
      "Row 0, Column 2 -> Value 30\n",
      "Row 1, Column 0 -> Value 40\n",
      "Row 1, Column 1 -> Value 50\n",
      "Row 1, Column 2 -> Value 60\n",
      "Row 2, Column 0 -> Value 70\n",
      "Row 2, Column 1 -> Value 80\n",
      "Row 2, Column 2 -> Value 90\n"
     ]
    }
   ],
   "source": [
    "matrix = [\n",
    "    [10, 20, 30],\n",
    "    [40, 50, 60],\n",
    "    [70, 80, 90]\n",
    "]\n",
    "\n",
    "for row_index, row in enumerate(matrix):\n",
    "    for col_index, value in enumerate(row):\n",
    "        print(f\"Row {row_index}, Column {col_index} -> Value {value}\")\n"
   ]
  },
  {
   "cell_type": "markdown",
   "metadata": {},
   "source": [
    "#### Example 2: Enumerate with a Dictionary\n",
    "Dictionaries don’t have indexes, but you can still enumerate over keys and values."
   ]
  },
  {
   "cell_type": "code",
   "execution_count": 2,
   "metadata": {},
   "outputs": [
    {
     "name": "stdout",
     "output_type": "stream",
     "text": [
      "1. Alice -> Score: 85\n",
      "2. Bob -> Score: 90\n",
      "3. Charlie -> Score: 78\n",
      "4. David -> Score: 92\n"
     ]
    }
   ],
   "source": [
    "student_scores = {\n",
    "    \"Alice\": 85,\n",
    "    \"Bob\": 90,\n",
    "    \"Charlie\": 78,\n",
    "    \"David\": 92\n",
    "}\n",
    "\n",
    "for index, (name, score) in enumerate(student_scores.items(), start=1):\n",
    "    print(f\"{index}. {name} -> Score: {score}\")\n"
   ]
  },
  {
   "cell_type": "markdown",
   "metadata": {},
   "source": [
    "#### Example 3: Enumerate in a Nested Dictionary\n",
    "Enumerate can also help with complex data structures like nested dictionaries."
   ]
  },
  {
   "cell_type": "code",
   "execution_count": 6,
   "metadata": {},
   "outputs": [
    {
     "name": "stdout",
     "output_type": "stream",
     "text": [
      "\n",
      "1. Class A\n",
      "  1. Faizan\n",
      "  2. Suleman\n",
      "  3. Ehtisham\n",
      "\n",
      "2. Class B\n",
      "  1. Aabid\n",
      "  2. Ambreen\n",
      "  3. Ammara\n",
      "\n",
      "3. Class C\n",
      "  1. Ali\n",
      "  2. Hassaan\n",
      "  3. Sikander\n"
     ]
    }
   ],
   "source": [
    "class_data = {\n",
    "    \"Class A\": [\"Faizan\", \"Suleman\", \"Ehtisham\"],\n",
    "    \"Class B\": [\"Aabid\", \"Ambreen\", \"Ammara\"],\n",
    "    \"Class C\": [\"Ali\", \"Hassaan\", \"Sikander\"]\n",
    "}\n",
    "\n",
    "for class_index, (class_name, students) in enumerate(class_data.items(), start=1):\n",
    "    print(f\"\\n{class_index}. {class_name}\")\n",
    "    for student_index, student in enumerate(students, start=1):\n",
    "        print(f\"  {student_index}. {student}\")\n"
   ]
  },
  {
   "cell_type": "markdown",
   "metadata": {},
   "source": [
    "#### Example 4: Enumerate with a Generator Function\n",
    "Enumerate can be used in generator functions for efficiency."
   ]
  },
  {
   "cell_type": "code",
   "execution_count": 13,
   "metadata": {},
   "outputs": [
    {
     "name": "stdout",
     "output_type": "stream",
     "text": [
      "Index 0: Square of 2 is 4\n",
      "Index 1: Square of 4 is 16\n",
      "Index 2: Square of 6 is 36\n",
      "Index 3: Square of 8 is 64\n"
     ]
    }
   ],
   "source": [
    "def square_numbers(numbers):\n",
    "    result = []\n",
    "    for index, num in enumerate(numbers):\n",
    "        result.append(f\"Index {index}: Square of {num} is {num**2}\")\n",
    "    return result\n",
    "\n",
    "numbers = [2, 4, 6, 8]\n",
    "for item in square_numbers(numbers):\n",
    "    print(item)\n"
   ]
  },
  {
   "cell_type": "code",
   "execution_count": 14,
   "metadata": {},
   "outputs": [],
   "source": [
    "# help(print)"
   ]
  },
  {
   "cell_type": "markdown",
   "metadata": {},
   "source": []
  },
  {
   "cell_type": "markdown",
   "metadata": {},
   "source": []
  },
  {
   "cell_type": "markdown",
   "metadata": {},
   "source": []
  },
  {
   "cell_type": "markdown",
   "metadata": {},
   "source": [
    "# Compare List, Dict, Sets, Tuple\n",
    "- When to use \n",
    "- how to use \n",
    "- details \n",
    "- pros and cons (limitations)"
   ]
  },
  {
   "cell_type": "code",
   "execution_count": null,
   "metadata": {},
   "outputs": [],
   "source": []
  },
  {
   "cell_type": "code",
   "execution_count": null,
   "metadata": {},
   "outputs": [],
   "source": []
  },
  {
   "cell_type": "code",
   "execution_count": null,
   "metadata": {},
   "outputs": [],
   "source": []
  },
  {
   "cell_type": "code",
   "execution_count": null,
   "metadata": {},
   "outputs": [],
   "source": []
  },
  {
   "cell_type": "code",
   "execution_count": null,
   "metadata": {},
   "outputs": [],
   "source": []
  },
  {
   "cell_type": "code",
   "execution_count": null,
   "metadata": {},
   "outputs": [],
   "source": []
  },
  {
   "cell_type": "markdown",
   "metadata": {},
   "source": [
    "## Summary"
   ]
  },
  {
   "cell_type": "markdown",
   "metadata": {},
   "source": [
    "- A `for` loop iterates over a sequence or iterable.<br>\n",
    "- You can use `range()` to generate sequences of numbers. <br>\n",
    "- Strings, lists, tuples, dictionaries, and other iterables can be looped over. <br>\n",
    "- `Nested for` loops allow you to work with multi-dimensional data.<br>\n",
    "- Use `break` to `exit` a loop early and `continue` to `skip` iterations.<br>\n",
    "- The `else` clause executes after the loop completes `unless a break` occurs.\n"
   ]
  },
  {
   "cell_type": "markdown",
   "metadata": {},
   "source": [
    "- Enumerate \n",
    "- Hashing (Dictionary)\n",
    "- "
   ]
  },
  {
   "cell_type": "code",
   "execution_count": 1,
   "metadata": {},
   "outputs": [
    {
     "data": {
      "text/html": [
       "\n",
       "    <style>\n",
       "        body {\n",
       "            background-color: #f2fff2;\n",
       "        }\n",
       "        h1 {\n",
       "            text-align: center;\n",
       "            font-weight: bold;\n",
       "            font-size: 36px;\n",
       "            color: #4295F4;\n",
       "            text-decoration: underline;\n",
       "            padding-top: 15px;\n",
       "        }\n",
       "        \n",
       "        h2 {\n",
       "            text-align: left;\n",
       "            font-weight: bold;\n",
       "            font-size: 30px;\n",
       "            color: #4A000A;\n",
       "            text-decoration: underline;\n",
       "            padding-top: 10px;\n",
       "        }\n",
       "        \n",
       "        h3 {\n",
       "            text-align: left;\n",
       "            font-weight: bold;\n",
       "            font-size: 30px;\n",
       "            color: #f0081e;\n",
       "            text-decoration: underline;\n",
       "            padding-top: 5px;\n",
       "        }\n",
       "\n",
       "        \n",
       "        p {\n",
       "            text-align: center;\n",
       "            font-size: 12 px;\n",
       "            color: #0B9923;\n",
       "        }\n",
       "    </style>\n",
       "\n",
       "<h1>Hello</h1>\n",
       "<p>Hello World</p>\n",
       "<h2> Hello</h2>\n",
       "<h3> World </h3>\n"
      ],
      "text/plain": [
       "<IPython.core.display.HTML object>"
      ]
     },
     "execution_count": 1,
     "metadata": {},
     "output_type": "execute_result"
    }
   ],
   "source": [
    "from IPython.core.display import HTML\n",
    "\n",
    "style = \"\"\"\n",
    "    <style>\n",
    "        body {\n",
    "            background-color: #f2fff2;\n",
    "        }\n",
    "        h1 {\n",
    "            text-align: center;\n",
    "            font-weight: bold;\n",
    "            font-size: 36px;\n",
    "            color: #4295F4;\n",
    "            text-decoration: underline;\n",
    "            padding-top: 15px;\n",
    "        }\n",
    "        \n",
    "        h2 {\n",
    "            text-align: left;\n",
    "            font-weight: bold;\n",
    "            font-size: 30px;\n",
    "            color: #4A000A;\n",
    "            text-decoration: underline;\n",
    "            padding-top: 10px;\n",
    "        }\n",
    "        \n",
    "        h3 {\n",
    "            text-align: left;\n",
    "            font-weight: bold;\n",
    "            font-size: 30px;\n",
    "            color: #f0081e;\n",
    "            text-decoration: underline;\n",
    "            padding-top: 5px;\n",
    "        }\n",
    "\n",
    "        \n",
    "        p {\n",
    "            text-align: center;\n",
    "            font-size: 12 px;\n",
    "            color: #0B9923;\n",
    "        }\n",
    "    </style>\n",
    "\"\"\"\n",
    "\n",
    "html_content = \"\"\"\n",
    "<h1>Hello</h1>\n",
    "<p>Hello World</p>\n",
    "<h2> Hello</h2>\n",
    "<h3> World </h3>\n",
    "\"\"\"\n",
    "\n",
    "HTML(style + html_content)"
   ]
  },
  {
   "cell_type": "markdown",
   "metadata": {},
   "source": []
  },
  {
   "cell_type": "code",
   "execution_count": null,
   "metadata": {},
   "outputs": [],
   "source": []
  }
 ],
 "metadata": {
  "kernelspec": {
   "display_name": "Python 3",
   "language": "python",
   "name": "python3"
  },
  "language_info": {
   "codemirror_mode": {
    "name": "ipython",
    "version": 3
   },
   "file_extension": ".py",
   "mimetype": "text/x-python",
   "name": "python",
   "nbconvert_exporter": "python",
   "pygments_lexer": "ipython3",
   "version": "3.12.6"
  }
 },
 "nbformat": 4,
 "nbformat_minor": 4
}
