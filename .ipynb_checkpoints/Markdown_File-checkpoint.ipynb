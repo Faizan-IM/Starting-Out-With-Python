{
 "cells": [
  {
   "cell_type": "markdown",
   "id": "f8b4a3db-ff16-4d5c-a9d2-d1f4e11f2c15",
   "metadata": {},
   "source": [
    "# This is a Markdown File for Use Cases "
   ]
  },
  {
   "cell_type": "markdown",
   "id": "9f1ded2b-5751-4ccb-9a6c-5f97afcbc636",
   "metadata": {},
   "source": [
    "# Heading 1\n",
    "## Heading 2\n",
    "### Heading 3\n",
    "\n"
   ]
  },
  {
   "cell_type": "markdown",
   "id": "4c23a7c9-5c45-438b-b118-0038d7e6d1b9",
   "metadata": {},
   "source": [
    "**Bold Text**  \n",
    "*Italic Text*  \n",
    "~~Strikethrough~~  \n",
    "`Inline Code`\n"
   ]
  },
  {
   "cell_type": "markdown",
   "id": "f1cfa319-51d9-4ada-a198-71fec635c4b9",
   "metadata": {},
   "source": [
    "### Unordered List\n",
    "- Item 1\n",
    "- Item 2\n",
    "  - Subitem 2.1\n",
    "  - Subitem 2.2\n",
    "\n",
    "### Ordered List\n",
    "1. First\n",
    "2. Second\n",
    "3. Third\n"
   ]
  },
  {
   "cell_type": "markdown",
   "id": "18acd8e7-a654-4b2a-9a2f-a85d2d0b2d1c",
   "metadata": {},
   "source": [
    "```python\n",
    "def hello():\n",
    "    print(\"Hello, World!\")\n",
    "\n",
    "hello()\n"
   ]
  },
  {
   "cell_type": "markdown",
   "id": "081d379a-9e22-4b4d-b0e6-4dd74d49ba56",
   "metadata": {},
   "source": [
    "\n",
    "---\n",
    "\n",
    "### **Cell 5: Python Code Execution (Code)**\n",
    "```python\n",
    "def hello():\n",
    "    print(\"Hello, World!\")\n",
    "\n",
    "hello()\n"
   ]
  },
  {
   "cell_type": "markdown",
   "id": "b015c27a-2cae-4851-aaa6-15abcf94ab62",
   "metadata": {},
   "source": [
    "> This is a blockquote.\n"
   ]
  },
  {
   "cell_type": "markdown",
   "id": "4bab3b07-2034-471d-bcc8-88236bed9f18",
   "metadata": {},
   "source": [
    "[Google](https://www.google.com)\n",
    "\n",
    "![Placeholder Image](https://via.placeholder.com/150)\n"
   ]
  },
  {
   "cell_type": "markdown",
   "id": "a774db0f-6343-40a9-96b9-18378ed5d9db",
   "metadata": {},
   "source": [
    "<p style=\"color:red;\">This is red text</p>\n",
    "\n",
    "<b>Bold using HTML</b>\n",
    "<p style=\"color:blue;\">This is blue text</p>"
   ]
  },
  {
   "cell_type": "code",
   "execution_count": 1,
   "id": "c6e51fae-03f6-4218-beba-bceb2d627ad8",
   "metadata": {},
   "outputs": [
    {
     "data": {
      "text/html": [
       "\n",
       "    <style>\n",
       "        body {\n",
       "            background-color: #f2fff2;\n",
       "        }\n",
       "        h1 {\n",
       "            text-align: center;\n",
       "            font-weight: bold;\n",
       "            font-size: 36px;\n",
       "            color: #4295F4;\n",
       "            text-decoration: underline;\n",
       "            padding-top: 15px;\n",
       "        }\n",
       "        \n",
       "        h2 {\n",
       "            text-align: left;\n",
       "            font-weight: bold;\n",
       "            font-size: 30px;\n",
       "            color: #4A000A;\n",
       "            text-decoration: underline;\n",
       "            padding-top: 10px;\n",
       "        }\n",
       "        \n",
       "        h3 {\n",
       "            text-align: left;\n",
       "            font-weight: bold;\n",
       "            font-size: 30px;\n",
       "            color: #f0081e;\n",
       "            text-decoration: underline;\n",
       "            padding-top: 5px;\n",
       "        }\n",
       "\n",
       "        \n",
       "        p {\n",
       "            text-align: center;\n",
       "            font-size: 12 px;\n",
       "            color: #0B9923;\n",
       "        }\n",
       "    </style>\n",
       "\n",
       "<h1>Hello</h1>\n",
       "<p>Hello World</p>\n",
       "<h2> Hello</h2>\n",
       "<h3> World </h3>\n"
      ],
      "text/plain": [
       "<IPython.core.display.HTML object>"
      ]
     },
     "execution_count": 1,
     "metadata": {},
     "output_type": "execute_result"
    }
   ],
   "source": [
    "from IPython.core.display import HTML\n",
    "\n",
    "style = \"\"\"\n",
    "    <style>\n",
    "        body {\n",
    "            background-color: #f2fff2;\n",
    "        }\n",
    "        h1 {\n",
    "            text-align: center;\n",
    "            font-weight: bold;\n",
    "            font-size: 36px;\n",
    "            color: #4295F4;\n",
    "            text-decoration: underline;\n",
    "            padding-top: 15px;\n",
    "        }\n",
    "        \n",
    "        h2 {\n",
    "            text-align: left;\n",
    "            font-weight: bold;\n",
    "            font-size: 30px;\n",
    "            color: #4A000A;\n",
    "            text-decoration: underline;\n",
    "            padding-top: 10px;\n",
    "        }\n",
    "        \n",
    "        h3 {\n",
    "            text-align: left;\n",
    "            font-weight: bold;\n",
    "            font-size: 30px;\n",
    "            color: #f0081e;\n",
    "            text-decoration: underline;\n",
    "            padding-top: 5px;\n",
    "        }\n",
    "\n",
    "        \n",
    "        p {\n",
    "            text-align: center;\n",
    "            font-size: 12 px;\n",
    "            color: #0B9923;\n",
    "        }\n",
    "    </style>\n",
    "\"\"\"\n",
    "\n",
    "html_content = \"\"\"\n",
    "<h1>Hello</h1>\n",
    "<p>Hello World</p>\n",
    "<h2> Hello</h2>\n",
    "<h3> World </h3>\n",
    "\"\"\"\n",
    "\n",
    "HTML(style + html_content)"
   ]
  },
  {
   "cell_type": "code",
   "execution_count": null,
   "id": "2a99c758-a158-4ba6-ae37-97434f3cd96c",
   "metadata": {},
   "outputs": [],
   "source": []
  }
 ],
 "metadata": {
  "kernelspec": {
   "display_name": "Python 3 (ipykernel)",
   "language": "python",
   "name": "python3"
  },
  "language_info": {
   "codemirror_mode": {
    "name": "ipython",
    "version": 3
   },
   "file_extension": ".py",
   "mimetype": "text/x-python",
   "name": "python",
   "nbconvert_exporter": "python",
   "pygments_lexer": "ipython3",
   "version": "3.12.6"
  }
 },
 "nbformat": 4,
 "nbformat_minor": 5
}
