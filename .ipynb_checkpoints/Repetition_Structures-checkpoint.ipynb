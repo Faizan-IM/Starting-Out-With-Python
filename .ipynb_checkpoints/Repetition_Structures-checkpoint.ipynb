{
 "cells": [
  {
   "cell_type": "markdown",
   "metadata": {},
   "source": [
    "# Repetition Structures"
   ]
  },
  {
   "cell_type": "markdown",
   "metadata": {},
   "source": [
    "## Definintion and Concept of Repetition Structures\n",
    "A repetition structure causes a statement or set of statements to execute repeatedly."
   ]
  },
  {
   "cell_type": "markdown",
   "metadata": {},
   "source": [
    "Why do we use Repetition Structures?\n",
    "\n",
    " • The duplicated code makes the program large.\n",
    "\n",
    " • Writing a long sequence of statements can be time consuming.\n",
    " \n",
    " • If part of the duplicated code has to be corrected or changed, then the correction or change has to be done many times."
   ]
  },
  {
   "cell_type": "markdown",
   "metadata": {},
   "source": [
    "Instead of writing the same sequence of statements over and over, a better way to repeatedly perform an operation is to write the code for the operation once, then place that code in a structure that makes the computer repeat it as many times as necessary. This can be done with a ***repetition structure***, which is more commonly known as a ***loop***."
   ]
  },
  {
   "cell_type": "markdown",
   "metadata": {},
   "source": [
    "### Condition-Controlled and Count-Controlled Loops"
   ]
  },
  {
   "cell_type": "markdown",
   "metadata": {},
   "source": [
    "A ***condition-controlled loop*** uses a ***true/false*** condition to control the number of times that it repeats. A ***count-controlled loop*** repeats a specific number of times. In Python, you use the ***while statement*** to write a ***condition-controlled loop***, and you use the ***for*** statement to write a ***count-controlled loop***. \n",
    "- ```While Statement -> Condition Controlled Loop -> True/False```\n",
    "- ```For Statement -> Count-Controlled Loop -> Counts```"
   ]
  },
  {
   "cell_type": "markdown",
   "metadata": {},
   "source": [
    "## ```The While Loop```: Condition Controlled Loop"
   ]
  },
  {
   "cell_type": "markdown",
   "metadata": {},
   "source": [
    "A condition-controlled loop causes a statement or set of statements to repeat ```as long as a condition is true```. In Python, you use the ***while statement*** to write a condition-controlled loop.\n"
   ]
  },
  {
   "attachments": {
    "image.png": {
     "image/png": "[encoded data removed]"
    }
   },
   "cell_type": "markdown",
   "metadata": {},
   "source": [
    "The while loop gets its name from the way it works: while a condition is true, do some task. The loop has two parts: \n",
    "\n",
    "(1) a condition that is tested for a true or false value, and \n",
    "\n",
    "(2) a statement or set of statements that is repeated as long as the condition is true. \n",
    "\n",
    "Figure below shows the logic of a while loop\n",
    "\n",
    "![image.png](attachment:image.png)\n"
   ]
  },
  {
   "cell_type": "markdown",
   "metadata": {},
   "source": [
    "The ```diamond symbol``` represents the condition that is tested. Notice what happens ```if the condition is true: one or more statements are executed, and the program’s execution flows back to the point just above the diamond symbol```. The condition is tested again, and if it is true, the process repeats. ```If the condition is false, the program exits the loop```. In a flowchart, you will always recognize a loop when you see a flow line going back to a previous part of the flowchart."
   ]
  },
  {
   "cell_type": "markdown",
   "metadata": {},
   "source": [
    "Here is the general format of the while loop in Python:\n",
    "```\n",
    "while condition:\n",
    "    statement \n",
    "    statement \n",
    "    etc.\n",
    "```"
   ]
  },
  {
   "cell_type": "markdown",
   "metadata": {},
   "source": []
  }
 ],
 "metadata": {
  "language_info": {
   "name": "python"
  }
 },
 "nbformat": 4,
 "nbformat_minor": 2
}
