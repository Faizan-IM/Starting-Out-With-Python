{
 "cells": [
  {
   "cell_type": "markdown",
   "id": "89998a9c-0ea1-4505-b7ab-dd7a2935afd1",
   "metadata": {},
   "source": [
    "When working with strings in Python, you may have to split a string into substrings. Or you might need to join together smaller chunks to form a string. Python's split() and join() string methods help you do these tasks easily."
   ]
  },
  {
   "cell_type": "markdown",
   "id": "f5ca0dc9-dd59-4954-87dd-31775474313e",
   "metadata": {},
   "source": [
    "In this notebook, you'll learn about the $split()$ and $join()$ string methods with plenty of example code.\r\n",
    "\r\n",
    "As strings in Python are immutable, you can call methods on them without modifying the original strings. Let's get started."
   ]
  },
  {
   "cell_type": "code",
   "execution_count": null,
   "id": "a0d9a264-fd79-412a-80b0-d0f3a1f6d88b",
   "metadata": {},
   "outputs": [],
   "source": []
  }
 ],
 "metadata": {
  "kernelspec": {
   "display_name": "Python 3 (ipykernel)",
   "language": "python",
   "name": "python3"
  },
  "language_info": {
   "codemirror_mode": {
    "name": "ipython",
    "version": 3
   },
   "file_extension": ".py",
   "mimetype": "text/x-python",
   "name": "python",
   "nbconvert_exporter": "python",
   "pygments_lexer": "ipython3",
   "version": "3.12.4"
  }
 },
 "nbformat": 4,
 "nbformat_minor": 5
}
