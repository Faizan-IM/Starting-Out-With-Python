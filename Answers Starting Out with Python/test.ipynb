{
 "cells": [
  {
   "cell_type": "markdown",
   "metadata": {},
   "source": [
    "Write a function that check whether a string is palindrome or not."
   ]
  },
  {
   "cell_type": "code",
   "execution_count": null,
   "metadata": {},
   "outputs": [
    {
     "name": "stdout",
     "output_type": "stream",
     "text": [
      "mom is a Plindrome\n"
     ]
    }
   ],
   "source": [
    "input_word = input(\"Enter your word:\")\n",
    "input_word2 = input(\"Enter your 2nd word:\")\n",
    "\n",
    "def is_palindrome(word):\n",
    "    reversed_word = word[::-1].lower()\n",
    "    if reversed_word == word:\n",
    "        print(f\"{word} is a Palindrome\")\n",
    "    else:\n",
    "        print(f\"{word} is not a Palindrome\")\n",
    "is_palindrome(input_word)\n",
    "is_palindrome(input_word2)"
   ]
  },
  {
   "cell_type": "markdown",
   "metadata": {},
   "source": []
  },
  {
   "cell_type": "markdown",
   "metadata": {},
   "source": []
  },
  {
   "cell_type": "markdown",
   "metadata": {},
   "source": []
  }
 ],
 "metadata": {
  "kernelspec": {
   "display_name": "base",
   "language": "python",
   "name": "python3"
  },
  "language_info": {
   "codemirror_mode": {
    "name": "ipython",
    "version": 3
   },
   "file_extension": ".py",
   "mimetype": "text/x-python",
   "name": "python",
   "nbconvert_exporter": "python",
   "pygments_lexer": "ipython3",
   "version": "3.12.4"
  }
 },
 "nbformat": 4,
 "nbformat_minor": 2
}
