{
 "cells": [
  {
   "cell_type": "markdown",
   "metadata": {},
   "source": [
    "# Chapter 3"
   ]
  },
  {
   "cell_type": "markdown",
   "metadata": {},
   "source": [
    "## Multiple Choice"
   ]
  },
  {
   "cell_type": "markdown",
   "metadata": {},
   "source": [
    "1. A _________ structure can execute a set of statements only under certain circumstances.\n",
    " \n",
    " a. sequence\n",
    " \n",
    " b. circumstantial\n",
    " \n",
    " c. decision \n",
    " \n",
    " d. Boolean\n",
    "\n",
    " The correct answer is: ```c. decision```\n",
    "\n",
    " A decision structure (also known as a selection structure) allows a program to execute certain statements only when specific conditions are true. This is typically implemented using constructs like if, if-else, or switch statements in programming."
   ]
  },
  {
   "cell_type": "markdown",
   "metadata": {},
   "source": [
    "2. A _________ structure provides one alternative path of execution.\n",
    "\n",
    " a. sequence\n",
    "\n",
    " b. single alternative decision\n",
    " \n",
    " \n",
    "c. one path alternative\n",
    " \n",
    " d. single execution decision\n",
    "\n",
    "The correct answer is: ```b. single alternative decision```\n",
    "\n",
    "A single alternative decision structure executes a block of code only if a specific condition is true. If the condition is false, the program simply skips the block without providing an alternative path (e.g., an if statement without an else block)."
   ]
  },
  {
   "cell_type": "markdown",
   "metadata": {},
   "source": [
    "3. A(n) _________ expression has a value of either True or False.\n",
    " \n",
    " a. binary\n",
    " \n",
    " b. decision\n",
    " \n",
    " c. unconditional\n",
    " \n",
    " d. Boolean\n",
    "\n",
    "The correct answer is: ```d. Boolean```\n",
    "\n",
    "A Boolean expression evaluates to either True or False."
   ]
  },
  {
   "cell_type": "markdown",
   "metadata": {},
   "source": [
    "4. The symbols >, <, and == are all __________ operators.\n",
    " \n",
    "a. relational\n",
    " \n",
    "b. logical\n",
    " \n",
    "c. conditional\n",
    " \n",
    "d. ternary\n",
    "\n",
    "The correct answer is: ```a. relational```\n",
    "\n",
    "The symbols >, <, and == are relational operators because they compare two values and determine the relationship between them."
   ]
  },
  {
   "cell_type": "markdown",
   "metadata": {},
   "source": [
    "5. A(n) _________ structure tests a condition and then takes one path if the condition is \n",
    "true, or another path if the condition is false.\n",
    "\n",
    "a. if statement\n",
    "\n",
    "b. single alternative decision\n",
    "\n",
    "c. dual alternative decision\n",
    "\n",
    "d. sequence\n",
    "\n",
    "The correct answer is: ```c. dual alternative decision```\n",
    "\n",
    "A dual alternative decision structure allows the program to take one path if a condition is true and a different path if the condition is false. This is commonly implemented using an if-else statement."
   ]
  },
  {
   "cell_type": "markdown",
   "metadata": {},
   "source": [
    "6. You use a(n) __________ statement to write a single alternative decision structure.\n",
    "\n",
    "a. test-jump\n",
    "\n",
    "b. if\n",
    "\n",
    "c. if-else\n",
    "\n",
    "d. if-call\n",
    "\n",
    "The correct answer is: ```b. if```\n",
    "\n",
    "An ***if*** statement is used to create a ***single alternative decision*** structure, where an action is taken only if a condition is **true**. If the condition is **false**, the program skips the action."
   ]
  },
  {
   "cell_type": "markdown",
   "metadata": {},
   "source": [
    "7. You use a(n) __________ statement to write a dual alternative decision structure.\n",
    "\n",
    "a. test-jump\n",
    "\n",
    "b. if\n",
    "\n",
    "c. if-else\n",
    "\n",
    "d. if-call\n",
    "\n",
    "The correct answer is: ```c. if-else```\n",
    "\n",
    "An **if-else** statement is used to create a dual alternative decision structure, where one block of code executes if the condition is true, and another block of code executes if the condition is false."
   ]
  },
  {
   "cell_type": "markdown",
   "metadata": {},
   "source": [
    "8. and, or, and not are _________ operators.\n",
    "\n",
    "a. relational\n",
    "\n",
    "b. logical\n",
    "\n",
    "c. conditional\n",
    "\n",
    "d. ternary\n",
    "\n",
    "The correct answer is: ```b. logical```\n",
    "\n",
    "**and, or**, and **not** are logical operators that are used to combine or modify Boolean expressions."
   ]
  },
  {
   "cell_type": "markdown",
   "metadata": {},
   "source": [
    "9. A compound Boolean expression created with the __________ operator is true only if \n",
    "both of its subexpressions are true.\n",
    "\n",
    "a. and\n",
    "\n",
    "b. or\n",
    "\n",
    "c. not\n",
    "\n",
    "d. both\n",
    "\n",
    "The correct answer is: ```a. and```\n",
    "\n",
    "A compound Boolean expression using the and operator is true only if both subexpressions are true. If either subexpression is false, the entire expression evaluates to false."
   ]
  },
  {
   "cell_type": "markdown",
   "metadata": {},
   "source": [
    "10. A compound Boolean expression created with the _________ operator is true if either of its subexpressions is true.\n",
    "\n",
    "a. and\n",
    "\n",
    "b. or\n",
    "\n",
    "c. not\n",
    "\n",
    "d. either\n",
    "\n",
    "The correct answer is: ```b. or```\n",
    "\n",
    "A compound Boolean expression using the or operator is true if either of its subexpressions is true. The entire expression evaluates to false only if both subexpressions are false.\n",
    "\n"
   ]
  },
  {
   "cell_type": "markdown",
   "metadata": {},
   "source": [
    "11. The ___________ operator takes a Boolean expression as its operand and reverses its logical value.\n",
    "\n",
    "a. and\n",
    "\n",
    "b. or\n",
    "\n",
    "c. not\n",
    "\n",
    "d. either\n",
    "\n",
    "The correct answer is: ```c. not```\n",
    "\n",
    "The not operator takes a Boolean expression as its operand and reverses its logical value. If the expression is True, not makes it False, and if the expression is False, not makes it True."
   ]
  },
  {
   "cell_type": "markdown",
   "metadata": {},
   "source": [
    "12. A ___________ is a Boolean variable that signals when some condition exists in the \n",
    "program.\n",
    "\n",
    "a. flag\n",
    "\n",
    "b. signal\n",
    "\n",
    "c. sentinel\n",
    "\n",
    "d. siren\n",
    "\n",
    "The correct answer is: ```a. flag```\n",
    "\n",
    "A flag is a Boolean variable used to signal when a certain condition exists or has been met in a program. It is often used to control the flow of execution."
   ]
  },
  {
   "cell_type": "markdown",
   "metadata": {},
   "source": [
    "## True or False"
   ]
  },
  {
   "cell_type": "markdown",
   "metadata": {},
   "source": []
  }
 ],
 "metadata": {
  "kernelspec": {
   "display_name": "base",
   "language": "python",
   "name": "python3"
  },
  "language_info": {
   "codemirror_mode": {
    "name": "ipython",
    "version": 3
   },
   "file_extension": ".py",
   "mimetype": "text/x-python",
   "name": "python",
   "nbconvert_exporter": "python",
   "pygments_lexer": "ipython3",
   "version": "3.12.4"
  }
 },
 "nbformat": 4,
 "nbformat_minor": 2
}
